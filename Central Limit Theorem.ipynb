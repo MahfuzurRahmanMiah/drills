{
 "cells": [
  {
   "cell_type": "code",
   "execution_count": 17,
   "metadata": {},
   "outputs": [],
   "source": [
    "import numpy as np\n",
    "import pandas as pd\n",
    "import scipy\n",
    "import matplotlib.pyplot as plt\n",
    "%matplotlib inline\n"
   ]
  },
  {
   "cell_type": "code",
   "execution_count": 22,
   "metadata": {},
   "outputs": [
    {
     "data": {
      "image/png": "[encoded data removed]",
      "text/plain": [
       "<matplotlib.figure.Figure at 0x1a16c84ac8>"
      ]
     },
     "metadata": {},
     "output_type": "display_data"
    }
   ],
   "source": [
    "pop1 = np.random.binomial(10, 0.2, 10000)\n",
    "pop2 = np.random.binomial(10,0.5, 10000) \n",
    "\n",
    "# Let’s make histograms for the two groups. \n",
    "\n",
    "plt.hist(pop1, alpha=0.5, label='Population 1') \n",
    "plt.hist(pop2, alpha=0.5, label='Population 2') \n",
    "plt.legend(loc='upper right') \n",
    "plt.show()"
   ]
  },
  {
   "cell_type": "code",
   "execution_count": 23,
   "metadata": {},
   "outputs": [
    {
     "data": {
      "image/png": "[encoded data removed]",
      "text/plain": [
       "<matplotlib.figure.Figure at 0x1a17038c88>"
      ]
     },
     "metadata": {},
     "output_type": "display_data"
    },
    {
     "name": "stdout",
     "output_type": "stream",
     "text": [
      "Sample 1 mean is  1.85\n",
      "Sample 2 mean is  4.91\n",
      "Sample 1 std dev is  1.116915395184434\n",
      "Sample 1 std dev is  1.649818171799547\n",
      "The difference between the two sample means is 3.06\n",
      "T-value is  15.358860427823295\n",
      "T-value is  Ttest_indResult(statistic=15.281873173958184, pvalue=5.544442932700775e-34)\n"
     ]
    }
   ],
   "source": [
    "## ORIGINAL\n",
    "\n",
    "sample1 = np.random.choice(pop1, 100, replace=True)\n",
    "sample2 = np.random.choice(pop2, 100, replace=True)\n",
    "\n",
    "plt.hist(sample1, alpha=0.5, label='sample 1') \n",
    "plt.hist(sample2, alpha=0.5, label='sample 2') \n",
    "plt.legend(loc='upper right') \n",
    "plt.show()\n",
    "\n",
    "print(\"Sample 1 mean is \", sample1.mean())\n",
    "print(\"Sample 2 mean is \", sample2.mean())\n",
    "print(\"Sample 1 std dev is \", sample1.std())\n",
    "print(\"Sample 1 std dev is \", sample2.std())\n",
    "\n",
    "# Compute the difference between the two sample means.\n",
    "diff=sample2.mean( ) -sample1.mean()\n",
    "print(\"The difference between the two sample means is\", diff)\n",
    "\n",
    "size = np.array([len(sample1), len(sample2)])\n",
    "sd = np.array([sample1.std(), sample2.std()])\n",
    "\n",
    "# The squared standard deviations are divided by the sample size and summed, then we take\n",
    "# the square root of the sum. \n",
    "diff_se = (sum(sd ** 2 / size)) ** 0.5  \n",
    "\n",
    "#The difference between the means divided by the standard error: T-value.  \n",
    "print(\"T-value is \", diff/diff_se)\n",
    "\n",
    "from scipy.stats import ttest_ind\n",
    "print(\"T-value is \", ttest_ind(sample2, sample1, equal_var=False))"
   ]
  },
  {
   "cell_type": "code",
   "execution_count": 24,
   "metadata": {},
   "outputs": [
    {
     "data": {
      "image/png": "[encoded data removed]",
      "text/plain": [
       "<matplotlib.figure.Figure at 0x1a17104d68>"
      ]
     },
     "metadata": {},
     "output_type": "display_data"
    },
    {
     "name": "stdout",
     "output_type": "stream",
     "text": [
      "Sample 1 mean is  2.035\n",
      "Sample 2 mean is  4.911\n",
      "Sample 1 std dev is  1.2197438255633846\n",
      "Sample 1 std dev is  1.5546957901789018\n",
      "The difference between the two sample means is 2.8759999999999994\n",
      "T-value is  46.02422471155955\n",
      "T-value is  Ttest_indResult(statistic=46.00120684329735, pvalue=1.10009520670745e-310)\n"
     ]
    }
   ],
   "source": [
    "#Increase the size of your samples from 100 to 1000, then calculate the means and standard deviations for \n",
    "#your new samples and create histograms for each. \n",
    "\n",
    "sample1 = np.random.choice(pop1, 1000, replace=True)\n",
    "sample2 = np.random.choice(pop2, 1000, replace=True)\n",
    "\n",
    "plt.hist(sample1, alpha=0.5, label='sample 1') \n",
    "plt.hist(sample2, alpha=0.5, label='sample 2') \n",
    "plt.legend(loc='upper right') \n",
    "plt.show()\n",
    "\n",
    "print(\"Sample 1 mean is \", sample1.mean())\n",
    "print(\"Sample 2 mean is \", sample2.mean())\n",
    "print(\"Sample 1 std dev is \", sample1.std())\n",
    "print(\"Sample 1 std dev is \", sample2.std())\n",
    "\n",
    "# Compute the difference between the two sample means.\n",
    "diff=sample2.mean( ) -sample1.mean()\n",
    "print(\"The difference between the two sample means is\", diff)\n",
    "\n",
    "size = np.array([len(sample1), len(sample2)])\n",
    "sd = np.array([sample1.std(), sample2.std()])\n",
    "\n",
    "# The squared standard deviations are divided by the sample size and summed, then we take\n",
    "# the square root of the sum. \n",
    "diff_se = (sum(sd ** 2 / size)) ** 0.5  \n",
    "\n",
    "#The difference between the means divided by the standard error: T-value.  \n",
    "print(\"T-value is \", diff/diff_se)\n",
    "\n",
    "print(\"T-value is \", ttest_ind(sample2, sample1, equal_var=False))"
   ]
  },
  {
   "cell_type": "code",
   "execution_count": 25,
   "metadata": {},
   "outputs": [
    {
     "data": {
      "image/png": "[encoded data removed]",
      "text/plain": [
       "<matplotlib.figure.Figure at 0x1a17012908>"
      ]
     },
     "metadata": {},
     "output_type": "display_data"
    },
    {
     "name": "stdout",
     "output_type": "stream",
     "text": [
      "Sample 1 mean is  2.65\n",
      "Sample 2 mean is  4.65\n",
      "Sample 1 std dev is  1.4924811556599298\n",
      "Sample 1 std dev is  1.6209565077447328\n",
      "The difference between the two sample means is 2.0000000000000004\n",
      "T-value is  4.05929278058085\n",
      "T-value is  Ttest_indResult(statistic=3.956509191768928, pvalue=0.0003237346753040628)\n"
     ]
    }
   ],
   "source": [
    "# Repeat this again, decreasing the size of your samples to 20. What values change, and what remain the same?\n",
    "\n",
    "sample1 = np.random.choice(pop1, 20, replace=True)\n",
    "sample2 = np.random.choice(pop2, 20, replace=True)\n",
    "\n",
    "plt.hist(sample1, alpha=0.5, label='sample 1') \n",
    "plt.hist(sample2, alpha=0.5, label='sample 2') \n",
    "plt.legend(loc='upper right') \n",
    "plt.show()\n",
    "\n",
    "print(\"Sample 1 mean is \", sample1.mean())\n",
    "print(\"Sample 2 mean is \", sample2.mean())\n",
    "print(\"Sample 1 std dev is \", sample1.std())\n",
    "print(\"Sample 1 std dev is \", sample2.std())\n",
    "\n",
    "# Compute the difference between the two sample means.\n",
    "diff=sample2.mean( ) -sample1.mean()\n",
    "print(\"The difference between the two sample means is\", diff)\n",
    "\n",
    "size = np.array([len(sample1), len(sample2)])\n",
    "sd = np.array([sample1.std(), sample2.std()])\n",
    "\n",
    "# The squared standard deviations are divided by the sample size and summed, then we take\n",
    "# the square root of the sum. \n",
    "diff_se = (sum(sd ** 2 / size)) ** 0.5  \n",
    "\n",
    "#The difference between the means divided by the standard error: T-value.  \n",
    "print(\"T-value is \", diff/diff_se)\n",
    "\n",
    "print(\"T-value is \", ttest_ind(sample2, sample1, equal_var=False))"
   ]
  },
  {
   "cell_type": "markdown",
   "metadata": {},
   "source": [
    "Changing the sample size of from pop1 and pop2 changes the accuracy of the sample mean in relation to the population, but is still relatively near the set population mean. Standard deviation and T-value varies greatly due to the change in sample size."
   ]
  },
  {
   "cell_type": "code",
   "execution_count": 33,
   "metadata": {},
   "outputs": [
    {
     "name": "stdout",
     "output_type": "stream",
     "text": [
      "T-value is  Ttest_indResult(statistic=9.359452766923873, pvalue=1.836726603883524e-17)\n"
     ]
    }
   ],
   "source": [
    "#Change the probability value (p in the NumPy documentation) for pop1 to 0.3, then take new samples\n",
    "#and compute the t-statistic and p-value. \n",
    "\n",
    "pop1 = np.random.binomial(10, 0.3, 10000)\n",
    "pop2 = np.random.binomial(10,0.5, 10000) \n",
    "\n",
    "sample1 = np.random.choice(pop1, 100, replace=True)\n",
    "sample2 = np.random.choice(pop2, 100, replace=True)\n",
    "\n",
    "print(\"T-value is \", ttest_ind(sample2, sample1, equal_var=False))"
   ]
  },
  {
   "cell_type": "code",
   "execution_count": null,
   "metadata": {},
   "outputs": [],
   "source": [
    "#Then change the probability value p for group 1 to 0.4, and do it again. What changes, and why?\n",
    "\n",
    "pop1 = np.random.binomial(10, 0.4, 10000)\n",
    "pop2 = np.random.binomial(10,0.5, 10000) \n",
    "\n",
    "sample1 = np.random.choice(pop1, 100, replace=True)\n",
    "sample2 = np.random.choice(pop2, 100, replace=True)\n",
    "\n",
    "print(\"T-value is \", ttest_ind(sample2, sample1, equal_var=False))"
   ]
  },
  {
   "cell_type": "markdown",
   "metadata": {},
   "source": [
    "Changing the probability values of the populations such that the difference between them decreases also decreases the T-value. The means of the data sets are closer together and therefore fewer standard deviations separate the two population means."
   ]
  },
  {
   "cell_type": "code",
   "execution_count": 38,
   "metadata": {},
   "outputs": [
    {
     "data": {
      "image/png": "[encoded data removed]",
      "text/plain": [
       "<matplotlib.figure.Figure at 0x112664748>"
      ]
     },
     "metadata": {},
     "output_type": "display_data"
    },
    {
     "name": "stdout",
     "output_type": "stream",
     "text": [
      "Pop 1 mean is  5.0095\n",
      "Pop 2 mean is  1.998\n",
      "Sample 1 mean is  5.12\n",
      "Sample 2 mean is  1.92\n",
      "Sample 1 std dev is  4.5283109433871696\n",
      "Sample 1 std dev is  1.4119490075778232\n",
      "The difference between the two sample means is -3.2\n",
      "T-value is  -6.74631227719913\n",
      "T-value is  Ttest_indResult(statistic=-6.712495962611286, pvalue=7.039096007033345e-10)\n"
     ]
    }
   ],
   "source": [
    "#Change the distribution of your populations from binomial to a distribution of your choice. \n",
    "#Do the sample mean values still accurately represent the population values?\n",
    "\n",
    "pop1 = np.random.geometric(0.2, 10000)\n",
    "pop2 = np.random.geometric(0.5, 10000) \n",
    "\n",
    "sample1 = np.random.choice(pop1, 100, replace=True)\n",
    "sample2 = np.random.choice(pop2, 100, replace=True)\n",
    "\n",
    "plt.hist(sample1, alpha=0.5, label='sample 1') \n",
    "plt.hist(sample2, alpha=0.5, label='sample 2') \n",
    "plt.legend(loc='upper right') \n",
    "plt.show()\n",
    "\n",
    "print(\"Pop 1 mean is \", pop1.mean())\n",
    "print(\"Pop 2 mean is \", pop2.mean())\n",
    "print(\"Sample 1 mean is \", sample1.mean())\n",
    "print(\"Sample 2 mean is \", sample2.mean())\n",
    "print(\"Sample 1 std dev is \", sample1.std())\n",
    "print(\"Sample 1 std dev is \", sample2.std())\n",
    "\n",
    "# Compute the difference between the two sample means.\n",
    "diff=sample2.mean( ) -sample1.mean()\n",
    "print(\"The difference between the two sample means is\", diff)\n",
    "\n",
    "size = np.array([len(sample1), len(sample2)])\n",
    "sd = np.array([sample1.std(), sample2.std()])\n",
    "\n",
    "# The squared standard deviations are divided by the sample size and summed, then we take\n",
    "# the square root of the sum. \n",
    "diff_se = (sum(sd ** 2 / size)) ** 0.5  \n",
    "\n",
    "#The difference between the means divided by the standard error: T-value.  \n",
    "print(\"T-value is \", diff/diff_se)\n",
    "\n",
    "print(\"T-value is \", ttest_ind(sample2, sample1, equal_var=False))"
   ]
  },
  {
   "cell_type": "markdown",
   "metadata": {},
   "source": [
    "Sample means are similar to population mean when using geometric distribution."
   ]
  },
  {
   "cell_type": "code",
   "execution_count": null,
   "metadata": {},
   "outputs": [],
   "source": []
  }
 ],
 "metadata": {
  "kernelspec": {
   "display_name": "Python 3",
   "language": "python",
   "name": "python3"
  },
  "language_info": {
   "codemirror_mode": {
    "name": "ipython",
    "version": 3
   },
   "file_extension": ".py",
   "mimetype": "text/x-python",
   "name": "python",
   "nbconvert_exporter": "python",
   "pygments_lexer": "ipython3",
   "version": "3.6.4"
  }
 },
 "nbformat": 4,
 "nbformat_minor": 2
}
