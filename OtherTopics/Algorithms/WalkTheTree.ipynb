{
 "cells": [
  {
   "cell_type": "markdown",
   "metadata": {},
   "source": [
    "# DRILL:\n",
    "\n",
    "Implement a binary tree, which is filled with 15 pieces of random data. Your job is to then write a program to traverse the tree using a breadth first traversal. If you want additional practice, try other forms of traversal."
   ]
  },
  {
   "cell_type": "code",
   "execution_count": 3,
   "metadata": {},
   "outputs": [],
   "source": [
    "# Create a new binary tree with print functions\n",
    "class Node:\n",
    "    def __init__(self, val):\n",
    "        self.left = None\n",
    "        self.right = None\n",
    "        self.val = val\n",
    "\n",
    "# Breadth traversal, go level by level, left to right amongst the nodes\n",
    "    def breadth_traverse(rootNode):\n",
    "        level = [rootNode]\n",
    "        while level:\n",
    "            nextlevel = list() #make a list for the next level\n",
    "            for i in level:\n",
    "                print(i.val)\n",
    "                # add the left value of the current node to the list for the next level\n",
    "                if i.left: nextlevel.append(i.left) \n",
    "                # add the right value of the current node to the list for the next level\n",
    "                if i.right: nextlevel.append(i.right) \n",
    "            level = nextlevel"
   ]
  },
  {
   "cell_type": "code",
   "execution_count": 4,
   "metadata": {},
   "outputs": [
    {
     "name": "stdout",
     "output_type": "stream",
     "text": [
      "1\n",
      "2\n",
      "3\n",
      "4\n",
      "5\n",
      "6\n",
      "7\n",
      "8\n",
      "9\n",
      "10\n",
      "11\n",
      "12\n",
      "13\n",
      "14\n",
      "15\n"
     ]
    }
   ],
   "source": [
    "# Establish the initial root node and children\n",
    "root = Node(1)\n",
    "root.left = Node(2)\n",
    "root.right = Node(3)\n",
    "\n",
    "# Add the appropriate children for ‘B’ and ‘C’\n",
    "root.left.left = Node(4)\n",
    "root.left.right = Node(5)\n",
    "root.right.left = Node(6)\n",
    "root.right.right = Node(7)\n",
    "\n",
    "# Add the next layer of children\n",
    "root.left.left.left = Node(8)\n",
    "root.left.left.right = Node(9)\n",
    "\n",
    "root.left.right.left = Node(10)\n",
    "root.left.right.right = Node(11)\n",
    "\n",
    "root.right.left.left = Node(12)\n",
    "root.right.left.right = Node(13)\n",
    "\n",
    "root.right.right.left = Node(14)\n",
    "root.right.right.right = Node(15)\n",
    "\n",
    "Node.breadth_traverse(root)"
   ]
  },
  {
   "cell_type": "code",
   "execution_count": 9,
   "metadata": {},
   "outputs": [
    {
     "name": "stdout",
     "output_type": "stream",
     "text": [
      "0.10682853770165568\n",
      "0.7025855239868555\n",
      "0.6520420203142754\n",
      "0.9403523895661179\n",
      "0.27111522656032316\n",
      "0.25577551343303917\n",
      "0.7340593641446967\n",
      "0.6584500182400758\n",
      "0.3029879738883551\n",
      "0.6842331280769555\n",
      "0.39667364503301394\n",
      "0.7775165878901124\n",
      "0.11839956986543854\n",
      "0.22326611631224957\n",
      "0.9014630862746988\n"
     ]
    }
   ],
   "source": [
    "from random import seed\n",
    "from random import random\n",
    "\n",
    "seed(14)\n",
    "\n",
    "# Establish the initial root node and children\n",
    "root = Node(random())\n",
    "root.left = Node(random())\n",
    "root.right = Node(random())\n",
    "\n",
    "# Add the appropriate children for ‘B’ and ‘C’\n",
    "root.left.left = Node(random())\n",
    "root.left.right = Node(random())\n",
    "root.right.left = Node(random())\n",
    "root.right.right = Node(random())\n",
    "\n",
    "# Add the next layer of children\n",
    "root.left.left.left = Node(random())\n",
    "root.left.left.right = Node(random())\n",
    "\n",
    "root.left.right.left = Node(random())\n",
    "root.left.right.right = Node(random())\n",
    "\n",
    "root.right.left.left = Node(random())\n",
    "root.right.left.right = Node(random())\n",
    "\n",
    "root.right.right.left = Node(random())\n",
    "root.right.right.right = Node(random())\n",
    "\n",
    "Node.breadth_traverse(root)"
   ]
  },
  {
   "cell_type": "code",
   "execution_count": null,
   "metadata": {},
   "outputs": [],
   "source": []
  }
 ],
 "metadata": {
  "kernelspec": {
   "display_name": "Python 3",
   "language": "python",
   "name": "python3"
  },
  "language_info": {
   "codemirror_mode": {
    "name": "ipython",
    "version": 3
   },
   "file_extension": ".py",
   "mimetype": "text/x-python",
   "name": "python",
   "nbconvert_exporter": "python",
   "pygments_lexer": "ipython3",
   "version": "3.6.4"
  }
 },
 "nbformat": 4,
 "nbformat_minor": 2
}
