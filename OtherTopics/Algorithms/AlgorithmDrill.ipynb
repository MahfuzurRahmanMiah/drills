{
 "cells": [
  {
   "cell_type": "code",
   "execution_count": 1,
   "metadata": {},
   "outputs": [],
   "source": [
    "import time\n",
    "import random\n",
    "\n",
    "# Set seed.\n",
    "random.seed(a=100)\n",
    "\n",
    "# Create our default list.\n",
    "short_list = list(random.sample(range(1000000), 10))\n",
    "long_list = list(random.sample(range(1000000), 10000))"
   ]
  },
  {
   "cell_type": "markdown",
   "metadata": {},
   "source": [
    "Now that we've covered some basic data structures, let's get into the things we can _do_ with those structures a little more. Sure, we've covered some basic operations like adding and deleting elements, but what about more complex processes?\n",
    "\n",
    "These processes are called algorithms. (Ok, they're actually all technically within the class of algorithms, but these are algorithms we really think of as algorithms, rather than just single steps).\n",
    "\n",
    "Algorithms lend themselves to a lot of comparisons to try to illustrate what they are. Some people call them recipes. Others call them directions. The key is this: it's the set of steps necessary for a computer to accomplish a specific task.\n",
    "\n",
    "But what kind of task?\n",
    "\n",
    "Really any kind of task you want. But the most common to discuss (and the most common to show up in interviews) is sorting. Now, there are many many kinds of sorting algorithms, a brief summary of which you can get from the [Sorting Algorithm wiki page](https://en.wikipedia.org/wiki/Sorting_algorithm).\n",
    "\n",
    "We won't cover all of them here, but we'll talk about a few of them to draw out differences in performance, efficiency, and style.\n",
    "\n",
    "As a note, above we're defining `short_list` and `long_list` which will be our default random lists. The short one will be used to validate that our algorithm works, and the long list to compare computation times across sorting strategies. Standardizing both will let us use them as the same baselines for each algorithm we explore. We're also only going to use lists here, but this does generalize more broadly."
   ]
  },
  {
   "cell_type": "markdown",
   "metadata": {},
   "source": [
    "## The Task of Sorting\n",
    "\n",
    "Just for completeness, let's briefly review what we mean by sorting. The most common example used to talk about methods of sorting is a hand of cards. When you get a hand of cards in a game you want to organize them is some kind of reasonable fashion. This makes it easier to know what cards are in your hand, and to find and access the cards you want.\n",
    "\n",
    "Now, there are many different ways to sort. Everyone kind of has their own method. Some will pick cards up one and a time and sequence them as they go. Others will move through their hand reorganizing card by card. You could even just randomly shuffle them again and again until they are sorted (though this would not be a very efficient approach). Different methods work best in different games and with different sized hands. These same general concepts apply to sorting lists.\n",
    "\n",
    "All of our lists will have a set of values, in our case integers ranging from 0 to 1,000,000. Our goal is to return this list ordered from smallest to largest in the least amount of time. In situations where there are duplicates, those duplicates will maintain their original order (this preserves _stability_ in our algorithm). Our goal is to sort the list as efficiently as possible. This will be _measured_ in runtime, but also _discussed_ in terms of steps."
   ]
  },
  {
   "cell_type": "markdown",
   "metadata": {},
   "source": [
    "## Insertion Sort\n",
    "\n",
    "One of the simplest methods of sorting is the _insertion sort_. In this case we maintain two lists. First is our original list. Then we have a new list, which will be ordered. To add elements to that list, we take an element from our original list and then move through our new list, stopping and inserting it in the appropriate place. We do this by placing it in the position ahead of the first element in the new list that is larger than our chosen element. If none are larger then it is added to the end.\n",
    "\n",
    "This gives the nice property that our result will always be a sorted list which will grow to encompass the entire original set.\n",
    "\n",
    "Let's write it up quickly."
   ]
  },
  {
   "cell_type": "code",
   "execution_count": 2,
   "metadata": {},
   "outputs": [],
   "source": [
    "def insert_sort(input_list):\n",
    "    # Copy the input to a new list so we don't modify the original.\n",
    "    new_list = input_list\n",
    "    \n",
    "    # Iterate through the list.\n",
    "    for i in range(len(new_list)):\n",
    "        # Assign place to a new variable.\n",
    "        j = i\n",
    "        \n",
    "        # Move through the list as long as the previous position is larger\n",
    "        # than the current element of list.\n",
    "        while j > 0 and new_list[j - 1] > new_list[j]:\n",
    "            \n",
    "            # Swap places.\n",
    "            new_list[j - 1], new_list[j] = new_list[j], new_list[j - 1]\n",
    "            \n",
    "            # Reduce j by one.\n",
    "            j = j - 1\n",
    "    return new_list"
   ]
  },
  {
   "cell_type": "markdown",
   "metadata": {},
   "source": [
    "You can think about insertion sort as being like organizing a poker hand from left to right, where you scan your hand from left to right, picking up out of place cards when you see them and moving them to the left as far as they need to go. Here is an visualization from Wikipedia:\n",
    "\n",
    "![Animated insertion sort visualization](https://upload.wikimedia.org/wikipedia/commons/0/0f/Insertion-sort-example-300px.gif)\n",
    "\n",
    "If you want to play around with insertion sort or other algorithms visually, check out [VisuAlgo](https://visualgo.net/en/sorting). Feel free to escape out of the slides and tinker directly with the visualizations.\n",
    "\n",
    "The Python function above implements this algorithm and makes each individual _step_ clear. Lets apply it to our short and long lists."
   ]
  },
  {
   "cell_type": "code",
   "execution_count": 3,
   "metadata": {},
   "outputs": [
    {
     "name": "stdout",
     "output_type": "stream",
     "text": [
      "--- 9.989738464355469e-05 seconds ---\n",
      "[152745, 183236, 366725, 412125, 477025, 481850, 739784, 767514, 808225, 997948]\n"
     ]
    }
   ],
   "source": [
    "# Start the timer.\n",
    "start_time = time.time()\n",
    "\n",
    "# Run our insertion sort.\n",
    "insert_sort(short_list)\n",
    "\n",
    "# Print time to show runtime.\n",
    "print(\"--- %s seconds ---\" % (time.time() - start_time))\n",
    "print(insert_sort(short_list))"
   ]
  },
  {
   "cell_type": "code",
   "execution_count": 4,
   "metadata": {},
   "outputs": [
    {
     "name": "stdout",
     "output_type": "stream",
     "text": [
      "--- 14.961632013320923 seconds ---\n"
     ]
    }
   ],
   "source": [
    "# Test on the long list.\n",
    "start_time = time.time()\n",
    "\n",
    "insert_sort(long_list)\n",
    "\n",
    "print(\"--- %s seconds ---\" % (time.time() - start_time))"
   ]
  },
  {
   "cell_type": "markdown",
   "metadata": {},
   "source": [
    "So that seems to work! We've created a reasonable insertion sort that works through the list piecewise and inserts each element in the appropriate spot.\n",
    "\n",
    "However this also revealed something else important about insertion sort: it doesn't scale well. We noticed that it took 11 seconds on the long list. That's an unacceptably long amount of time. This is because its best case time is very different from its worst case.\n",
    "\n",
    "If the list is already ordered this kind of sort takes n steps to complete. It simply iterates through the list. However, if your list is perfectly out of order it can take asymptotically n-squared steps (in big-O notation, $\\mathcal{O}(n^2)$) as we have $n$ elements and our algorithm will potentially look through each element in the sorted list before inserting the element. This means computation can get more intensive quite quickly, as evidenced by the runtime of our long list. Think about what a square function looks like if you graph it. It grows at an ever increasing rate. The [wiki for Insertion Sort](https://en.wikipedia.org/wiki/Insertion_sort#Best.2C_worst.2C_and_average_cases) includes this lovely animation showing this method and the challenge that comes from it.\n",
    "\n",
    "![Insertion sort](https://upload.wikimedia.org/wikipedia/commons/4/42/Insertion_sort.gif)\n",
    "\n",
    "So, how could we do better?"
   ]
  },
  {
   "cell_type": "markdown",
   "metadata": {},
   "source": [
    "## Merge Sort\n",
    "\n",
    "One method for improving this is to use a _merge sort_. Merge sort takes advantage of fact that merging two small sorted lists into one large sorted list is fast. Merge sort starts by breaking our large list into single element sublists. It's a bit wonky, but if you think about it these single-element lists are each inherently ordered. Then we merge those single-element lists together into ordered pairs, reading from a single end to preserve their order. We repeat this process and arrive ultimately at a sorted list.\n",
    "\n",
    "This will look much more complex in code but the concept is easier to understand with an example. Let's try it first with a very basic manual walkthrough.\n",
    "\n",
    "If our list were `[3, 7, 2, 4]` The algorithm would first break it up into four pieces `[3], [7], [2], [4]`. Then we could split that into two groups and merge each by order, resulting in `[3, 7], [2, 4]`. Finally we bring those two lists together to get `[2, 3, 4, 7]`. It's more efficient because in any merge we only have to look at the leading entry from each prior list. For that final merge in the first step we're only comparing 3 to 2 and 4 to 7, since we already know 4 and 7 are larger than their prior entries.\n",
    "\n",
    "Why does that give us an advantage? It's because we won't have to handle large unordered data. We always know what's next in any merge is from one of two places (the next element in each of our two lists we're merging). It's over really long lists that this advantage becomes decidedly worthwhile. This technique is called _divide and conquer_. Our insertion sort tries to solve the whole problem in one piece. Sometimes that's great. But in the case of sorting a long list, that process is inefficient. By breaking our task into smaller ones, in this case sorting small lists and then merging those ordered lists together, we make significant gains in efficiency. Here's a bigger example.\n",
    "\n",
    "![Animated merge sort](https://upload.wikimedia.org/wikipedia/commons/c/cc/Merge-sort-example-300px.gif)\n",
    "\n",
    "This tradeoff is a common feature of algorithms. It's often easiest to write something that tries to solve the problem all in one go. The logic is often easier to visualize. However, thinking about how to break one big problem into several smaller problems is a common way to gain efficiency.\n",
    "\n",
    "Here's what the code for a merge sort looks like (with `merge` written as a separate function):"
   ]
  },
  {
   "cell_type": "code",
   "execution_count": 5,
   "metadata": {},
   "outputs": [],
   "source": [
    "# Our merge function takes two ordered lists and merges them together into one ordered list\n",
    "\n",
    "def merge(a, b):\n",
    "    # Check for empty list.\n",
    "    if len(a) == 0 or len(b) == 0:\n",
    "        return a or b\n",
    "    \n",
    "    # Start with an empty result.\n",
    "    result = []\n",
    "    # Track two indexes.\n",
    "    i, j = 0, 0\n",
    "    # Set a while condition to ensure we iterate only for the length of our two lists.\n",
    "    while (len(result) < len(a) + len(b)):\n",
    "        # If a's next element is lower append that element to our result.\n",
    "        if a[i] < b[j]:\n",
    "            result.append(a[i])\n",
    "            i += 1\n",
    "        # Otherwise append b's next element.\n",
    "        else:\n",
    "            result.append(b[j])\n",
    "            j += 1\n",
    "        # When one list is empty just append everything from the other list and stop.\n",
    "        if i == len(a) or j == len(b):\n",
    "            result.extend(a[i:] or b[j:])\n",
    "            break \n",
    "\n",
    "    return result\n",
    "\n",
    "def merge_sort(lst):\n",
    "    if len(lst) < 2:\n",
    "        return lst\n",
    "\n",
    "    mid = int(len(lst) / 2)\n",
    "    a = merge_sort(lst[:mid])\n",
    "    b = merge_sort(lst[mid:])\n",
    "\n",
    "    return merge(a, b)\n"
   ]
  },
  {
   "cell_type": "code",
   "execution_count": 6,
   "metadata": {},
   "outputs": [
    {
     "name": "stdout",
     "output_type": "stream",
     "text": [
      "--- 0.00016117095947265625 seconds ---\n",
      "[152745, 183236, 366725, 412125, 477025, 481850, 739784, 767514, 808225, 997948]\n"
     ]
    }
   ],
   "source": [
    "# Test on short list.\n",
    "# Start timer.\n",
    "start_time = time.time()\n",
    "\n",
    "# Run our insertion sort.\n",
    "merge_sort(short_list)\n",
    "\n",
    "# Print time to show runtime.\n",
    "print(\"--- %s seconds ---\" % (time.time() - start_time))\n",
    "print(insert_sort(short_list))"
   ]
  },
  {
   "cell_type": "code",
   "execution_count": 7,
   "metadata": {},
   "outputs": [
    {
     "name": "stdout",
     "output_type": "stream",
     "text": [
      "--- 0.0867757797241211 seconds ---\n"
     ]
    }
   ],
   "source": [
    "# Test on long list.\n",
    "start_time = time.time()\n",
    "\n",
    "merge_sort(long_list)\n",
    "\n",
    "print(\"--- %s seconds ---\" % (time.time() - start_time))"
   ]
  },
  {
   "cell_type": "markdown",
   "metadata": {},
   "source": [
    "Now, this algorithm is implemented _recursively_, meaning the function nests within itself, running multiple times until a stopping condition is met. This is how we create multiple layers of lists to merge together. Recursion, again, is a common feature of algorithms. It's a way of nesting an algorithm within itself so that it keeps going until the problem is actually solved and you don't have to specify how many times something should run.\n",
    "\n",
    "It is also much, much faster, a tenth of a second instead of 11 seconds, and less complex: $\\mathcal{O}(n\\log{}n)$ instead of $\\mathcal{O}(n^2))$.\n",
    "\n",
    "This break-down-and-merge method means that when combining shorter lists into longer lists, we can use the knowledge that the shorter lists are already sorted to cut down on the number of comparisons we need to make.  As a result, we don't have to potentially look through all other sorted elements in order to place a single element of our list. It no longer scales quadtratically, but in quasilinear time."
   ]
  },
  {
   "cell_type": "markdown",
   "metadata": {},
   "source": [
    "## The Default Sort Method\n",
    "\n",
    "Now, all of this is fine and dandy, but it's not the only way to sort things.\n",
    "\n",
    "We also have a simpler way. Kind of a cheating way. Python lists have a built in `.sort()` method and there's also the built-in `sorted()` function. Let's see how that performs."
   ]
  },
  {
   "cell_type": "code",
   "execution_count": 8,
   "metadata": {},
   "outputs": [
    {
     "name": "stdout",
     "output_type": "stream",
     "text": [
      "--- 0.0007512569427490234 seconds ---\n"
     ]
    }
   ],
   "source": [
    "# Start Timer\n",
    "start_time = time.time()\n",
    "\n",
    "# Sort the default list. Note that .sort() will sort in place, which would alter default_list.\n",
    "sorted(long_list)\n",
    "\n",
    "# Print time to show runtime\n",
    "print(\"--- %s seconds ---\" % (time.time() - start_time))"
   ]
  },
  {
   "cell_type": "markdown",
   "metadata": {},
   "source": [
    "Now that is much faster than either of ours, so for most cases it's worth just using the built ins. The reasons for this efficiency are many and partially have to do with the fact that it isn't actually written in Python, but Cython, which allows it to run in a version of C from Python that is much faster than generic Python.\n",
    "\n",
    "So why are you learning slow ways to sort that take a lot of work to implement? It's worth understanding how these algorithms function at their most basic level and how we can work with them to build our own bespoke tools. The more complex algorithms you'll implement later will rely on these fundamentals."
   ]
  },
  {
   "cell_type": "markdown",
   "metadata": {},
   "source": [
    "## DRILL\n",
    "\n",
    "Return to the [sorting wiki page](https://en.wikipedia.org/wiki/Sorting_algorithm) and pick an algorithm we haven't covered here (you probably want to pick one of the simpler ones, but it's up to you. Implement it in Python below and see how it compares in sorting our short and long lists. You should be able to easily find guides on how to implement any of the algorithms. Can you figure out why it runs faster or slower than our other sorting algorithms?\n",
    "\n",
    "Some good sorts to try are:\n",
    "* Heap Sort\n",
    "* Selection Sort\n",
    "* QuickSort"
   ]
  },
  {
   "cell_type": "markdown",
   "metadata": {},
   "source": [
    "### QuickSort Wiki Background:\n",
    "Quicksort is a divide and conquer algorithm. It first divides the input array into two smaller sub-arrays: the low elements and the high elements. It then recursively sorts the sub-arrays. The steps for in-place Quicksort are:\n",
    "\n",
    "Pick an element, called a pivot, from the array.\n",
    "Partitioning: reorder the array so that all elements with values less than the pivot come before the pivot, while all elements with values greater than the pivot come after it (equal values can go either way). After this partitioning, the pivot is in its final position. This is called the partition operation.\n",
    "Recursively apply the above steps to the sub-array of elements with smaller values and separately to the sub-array of elements with greater values.\n",
    "The base case of the recursion is arrays of size zero or one, which are in order by definition, so they never need to be sorted."
   ]
  },
  {
   "cell_type": "code",
   "execution_count": 20,
   "metadata": {},
   "outputs": [],
   "source": [
    "# Your Code Here:\n",
    "\n",
    "# Let's try the Quicksort based on the psuedocode listed here: \n",
    "# https://en.wikipedia.org/wiki/Quicksort\n",
    "\n",
    "# This function takes middle element as pivot, places \n",
    "# the pivot element at its correct position in sorted \n",
    "# alistay, and places all smaller (smaller than pivot) \n",
    "# to left of pivot and all greater elements to right \n",
    "# of pivot \n",
    "def partition(alist,low,high): \n",
    "    # index of smaller element\n",
    "    i = (low-1 )         \n",
    "    \n",
    "# Note from wiki: Selecting a pivot element is also complicated \n",
    "# by the existence of integer overflow. If the boundary indices \n",
    "# of the subarray being sorted are sufficiently large, the naïve \n",
    "# expression for the middle index, (lo + hi)/2, will cause overflow \n",
    "# and provide an invalid pivot index. This can be overcome by using, \n",
    "# for example, lo + (hi−lo)/2 to index the middle element, at the cost \n",
    "# of more complex arithmetic.\n",
    "\n",
    "    # pivot \n",
    "    pivot = alist[(low+(high-low)//2)]     \n",
    "  \n",
    "    for j in range(low , high): \n",
    "  \n",
    "        # If current element is smaller than or \n",
    "        # equal to pivot \n",
    "        if   alist[j] <= pivot: \n",
    "          \n",
    "            # increment index of smaller element \n",
    "            i = i+1 \n",
    "            alist[i],alist[j] = alist[j],alist[i] \n",
    "  \n",
    "    alist[i+1],alist[high] = alist[high],alist[i+1] \n",
    "    return (i+1) \n",
    "  \n",
    "# Run main function that implements QuickSort:\n",
    "# The arguments are: \n",
    "# alist[]: alist to be sorted, \n",
    "# low: Starting index, \n",
    "# high: Ending index \n",
    "  \n",
    "# Function to do Quick sort \n",
    "def quickSort(alist,low,high): \n",
    "    if low < high: \n",
    "        # pi is partitioning index, \n",
    "        # alist[p] is set\n",
    "        # at correct index\n",
    "        pi = partition(alist,low,high) \n",
    "  \n",
    "        # Separately sort elements before \n",
    "        # partition and after partition \n",
    "        quickSort(alist, low, pi-1) \n",
    "        quickSort(alist, pi+1, high)\n",
    "        \n",
    "    return alist"
   ]
  },
  {
   "cell_type": "code",
   "execution_count": 22,
   "metadata": {},
   "outputs": [
    {
     "name": "stdout",
     "output_type": "stream",
     "text": [
      "--- 0.0001239776611328125 seconds ---\n",
      "[152745, 183236, 366725, 481850, 739784, 412125, 767514, 808225, 477025, 997948]\n"
     ]
    }
   ],
   "source": [
    "# Test on short list.\n",
    "# Start timer.\n",
    "start_time = time.time()\n",
    "\n",
    "# Run our quicksort.\n",
    "quickSort(short_list,0, len(short_list)-1)\n",
    "\n",
    "# Print time to show runtime.\n",
    "print(\"--- %s seconds ---\" % (time.time() - start_time))\n",
    "print(quickSort(short_list,0, len(short_list)-1))"
   ]
  },
  {
   "cell_type": "code",
   "execution_count": 23,
   "metadata": {},
   "outputs": [
    {
     "name": "stdout",
     "output_type": "stream",
     "text": [
      "--- 0.047410011291503906 seconds ---\n",
      "[29, 174, 316, 430, 373, 424, 2241, 762, 786, 1017, 1456, 1652, 830, 705, 1767, 2123, 2115, 4090, 2450, 2459, 2775, 2807, 2776, 2765, 2973, 3183, 3152, 2259, 3595, 3356, 3892, 3678, 3863, 4016, 3975, 4064, 3376, 4772, 4360, 9597, 5355, 5875, 5916, 6060, 5919, 5956, 5280, 6493, 6523, 6874, 6916, 6955, 6599, 6385, 7331, 7332, 7093, 4786, 7537, 8388, 8312, 8164, 8604, 8717, 8557, 8266, 8860, 9034, 9274, 7669, 9458, 9521, 9430, 9553, 9314, 9808, 9823, 9588, 16889, 9944, 9954, 10174, 9990, 10757, 10252, 10426, 10213, 10204, 11507, 10977, 11019, 11031, 10945, 11380, 10770, 11510, 11658, 11476, 9911, 11794, 11869, 11875, 12006, 12170, 11757, 12191, 11694, 12210, 12711, 12688, 12415, 12430, 12746, 12752, 12344, 12768, 9891, 12819, 13389, 13135, 13022, 13818, 13680, 13457, 13809, 13116, 13897, 14314, 14208, 14615, 14506, 14671, 14626, 14885, 13822, 14928, 15079, 15152, 12885, 15317, 15387, 15415, 15681, 15796, 15195, 16008, 15172, 16051, 16386, 16332, 16196, 16267, 16450, 16706, 16118, 16979, 33607, 17344, 17514, 17606, 17556, 18220, 18069, 18131, 17863, 17632, 19326, 18650, 18787, 18912, 18479, 19120, 18406, 19393, 19411, 19307, 21288, 19734, 19859, 19862, 19878, 19919, 19652, 20185, 19539, 20382, 20957, 20611, 20552, 20569, 21024, 21034, 20536, 21408, 21297, 17068, 21667, 21823, 21831, 22030, 22007, 22020, 21490, 22160, 22208, 22442, 22523, 22535, 22281, 22150, 22677, 22969, 22543, 21418, 22979, 23399, 23373, 23229, 23814, 23816, 23533, 23364, 23857, 23946, 24100, 23076, 24660, 24731, 24447, 24753, 24167, 25018, 24942, 17002, 25269, 25593, 25366, 25697, 25636, 26215, 25963, 26272, 26029, 26510, 27364, 26555, 26835, 26895, 26676, 27014, 26672, 27404, 27550, 27132, 25467, 27631, 27626, 27989, 28221, 27788, 28567, 28403, 28610, 29203, 28860, 29222, 29077, 27809, 29244, 29621, 29712, 29258, 29337, 29807, 25310, 30514, 30612, 30684, 31094, 30783, 30950, 30158, 31167, 31302, 31431, 31575, 31616, 31330, 31139, 31831, 31861, 31799, 30138, 31877, 32228, 32144, 32118, 32558, 32608, 32511, 32141, 32658, 32703, 32708, 32088, 32941, 33091, 32876, 33369, 32822, 33658, 33511, 62409, 34039, 34083, 34131, 34113, 34826, 34685, 34741, 34668, 34329, 35885, 35336, 35391, 35593, 35174, 35616, 35151, 36029, 36051, 35736, 37556, 36542, 36552, 36623, 36640, 36650, 36477, 36728, 36237, 36767, 37232, 37130, 36971, 36988, 37433, 37498, 36893, 37575, 37565, 40496, 37763, 37947, 38137, 38041, 38523, 38325, 38511, 38305, 38271, 37710, 38642, 38570, 38646, 39061, 38903, 39182, 38678, 38660, 39189, 37701, 39433, 39480, 39659, 39580, 39371, 39962, 39984, 39943, 39691, 39365, 40075, 40121, 40225, 40478, 40021, 40015, 33825, 40741, 40761, 40866, 40838, 40962, 40947, 40880, 40948, 41588, 41064, 41153, 41131, 41169, 41157, 41503, 41217, 41015, 41575, 41599, 41505, 41764, 40789, 42016, 41824, 42496, 42511, 42292, 42610, 42571, 42653, 43045, 42683, 43239, 42687, 42442, 43423, 43649, 43708, 43536, 43541, 43826, 40698, 44119, 44218, 44253, 44723, 44405, 44585, 43906, 44824, 44834, 45446, 45512, 45555, 45433, 44784, 45822, 45824, 45719, 43902, 46031, 46854, 46755, 46457, 47052, 47164, 46994, 46491, 47211, 47217, 47421, 46077, 47516, 47557, 47471, 47588, 47459, 47649, 47638, 33768, 47756, 48653, 48928, 48729, 49388, 48983, 49334, 49993, 49539, 49649, 49546, 49823, 49728, 49903, 49855, 49433, 49950, 50075, 49932, 50213, 51404, 50371, 50402, 50601, 50652, 50686, 50330, 50688, 50225, 50697, 51336, 51263, 50765, 50789, 51376, 51397, 50708, 51529, 51486, 48461, 51774, 51795, 51815, 52062, 51838, 52050, 51632, 52102, 52127, 52505, 52542, 52597, 52269, 52071, 52880, 53150, 52681, 51591, 53184, 53629, 53585, 53193, 53755, 53831, 53660, 53238, 53850, 53868, 53918, 53186, 54042, 54198, 54019, 54344, 53981, 54564, 54405, 48031, 54642, 54868, 54886, 54872, 55064, 55005, 55018, 55616, 55365, 55456, 55370, 55520, 55491, 55560, 55543, 55592, 55351, 55726, 55702, 54825, 55883, 56007, 56069, 56587, 56593, 55760, 56687, 55732, 56718, 57312, 57237, 56946, 57052, 57373, 57578, 56759, 57657, 54786, 57833, 58556, 58537, 58209, 59191, 59014, 58919, 59068, 58352, 59270, 59346, 59324, 59356, 59355, 59598, 59462, 59893, 59242, 59978, 59998, 60090, 58207, 60696, 60911, 61047, 61109, 61162, 60433, 61539, 60206, 61766, 62319, 62266, 62069, 62228, 62337, 62408, 61806, 62445, 127112, 63059, 63258, 63273, 63596, 63304, 63402, 64409, 63666, 63964, 63690, 64244, 64028, 64279, 64260, 63654, 64403, 64521, 64282, 66513, 64717, 64943, 64952, 65312, 65477, 64996, 64893, 65493, 65549, 65553, 64665, 65743, 66069, 66180, 66308, 65700, 65588, 70718, 66937, 67018, 67858, 67738, 68074, 67992, 67922, 68004, 67323, 68198, 68333, 68235, 68552, 68402, 68846, 68620, 68864, 68098, 68869, 69038, 69228, 66729, 69595, 69687, 69696, 69700, 69853, 69584, 69882, 69285, 70045, 70602, 70421, 70099, 70149, 70672, 70688, 70074, 70977, 70938, 80798, 71209, 71381, 71425, 72112, 71472, 71889, 73667, 72328, 72469, 72657, 72831, 72870, 72544, 72141, 72941, 73205, 73165, 71007, 73967, 74354, 74507, 74923, 74916, 74506, 75108, 75260, 75121, 73698, 75377, 75798, 75470, 75722, 76059, 75992, 75463, 76209, 76395, 76165, 76077, 70988, 77086, 77101, 77164, 77146, 77507, 77334, 77349, 77280, 77245, 76726, 77680, 77516, 77713, 77952, 77943, 77990, 77901, 77870, 78027, 76431, 78622, 78812, 79151, 79001, 78111, 79882, 80124, 79525, 79156, 78084, 80462, 80504, 80746, 80764, 80295, 80195, 63033, 80947, 81123, 81511, 81174, 82041, 81523, 81897, 83212, 82128, 82538, 82244, 82725, 82587, 82826, 82758, 82098, 83196, 83307, 82944, 85197, 83590, 83752, 83883, 84077, 84156, 84047, 83643, 84287, 84328, 84555, 83517, 84755, 84795, 84883, 84946, 84670, 84656, 81001, 85459, 85695, 85826, 85877, 85845, 86252, 86165, 86350, 86181, 86357, 85772, 86478, 87042, 87069, 86764, 87172, 87218, 86578, 87420, 85198, 87437, 87883, 87806, 87976, 87943, 87825, 88035, 88274, 88132, 87679, 88522, 88914, 88703, 88780, 89287, 89027, 88668, 89620, 89671, 89505, 89451, 80890, 89873, 89901, 89954, 90311, 90057, 90174, 91110, 90491, 90544, 90529, 90774, 90671, 91054, 90814, 91062, 90366, 91402, 91210, 89711, 91848, 91864, 92054, 92101, 92153, 91838, 92173, 91690, 92226, 92555, 92552, 92408, 92435, 92570, 92811, 92382, 92932, 89673, 93159, 93600, 93540, 93334, 93880, 93764, 93629, 93810, 93381, 94058, 94271, 94094, 94351, 94277, 94480, 94450, 94551, 94028, 94568, 94572, 94804, 93247, 95075, 95108, 95172, 95210, 95223, 94965, 95400, 94902, 95514, 96225, 95985, 95703, 95955, 96476, 96686, 95538, 96880, 62744, 96936, 97342, 97581, 97356, 98174, 97931, 97968, 98957, 98248, 98369, 98273, 98437, 98418, 98741, 98689, 98213, 98922, 99048, 98916, 100637, 99302, 99352, 99367, 99436, 99502, 99393, 99337, 99552, 99852, 99865, 99212, 100147, 100291, 100107, 100487, 99964, 100871, 100541, 104097, 101085, 101326, 101487, 101336, 102066, 101658, 102045, 101270, 102122, 102212, 102177, 102297, 102284, 102458, 102356, 102665, 102093, 102793, 102898, 102954, 101079, 103382, 103426, 103551, 103510, 103106, 103733, 103758, 103653, 103643, 102979, 104011, 104024, 104052, 104063, 103990, 103977, 97161, 104352, 104412, 104569, 104502, 105496, 105096, 104646, 105208, 106609, 105585, 105923, 105786, 106097, 106038, 106244, 106161, 105564, 106577, 106741, 106492, 106754, 104433, 107108, 106848, 107287, 107325, 107206, 107451, 107449, 107762, 107971, 107914, 108003, 107923, 107223, 108103, 108275, 108333, 108136, 108247, 108451, 104218, 108724, 108746, 108781, 108963, 108911, 108935, 108710, 109028, 109083, 109195, 109210, 109240, 109112, 108972, 109405, 109715, 109285, 108478, 109784, 110253, 110065, 110046, 110371, 110674, 110269, 110047, 110716, 110752, 110784, 109852, 111067, 111381, 110912, 111483, 110845, 111537, 111513, 111608, 97149, 111690, 111821, 111972, 111892, 112189, 112000, 112173, 111980, 111979, 113117, 112475, 112490, 112557, 112407, 112745, 112378, 113153, 113202, 112945, 115415, 113726, 113769, 113831, 113955, 114336, 113637, 114387, 113394, 114515, 115080, 114837, 114576, 114724, 115275, 115311, 114537, 115478, 115459, 111680, 115878, 115932, 115961, 116144, 116031, 116135, 115867, 116454, 116590, 116688, 116848, 116966, 116677, 116439, 117036, 117041, 117032, 115645, 117277, 117546, 117483, 117399, 118111, 118190, 118005, 117428, 118258, 118323, 118428, 117396, 118569, 118889, 118482, 118990, 118476, 119074, 119038, 111659, 119187, 119569, 119572, 119627, 119638, 119619, 119808, 119980, 119910, 121078, 120416, 120502, 120542, 120489, 120925, 120998, 120425, 119382, 121206, 121304, 121398, 121638, 121565, 121375, 121674, 121822, 121722, 121192, 121874, 122555, 122483, 122542, 122839, 122682, 122275, 123046, 123074, 123040, 123039, 119357, 123149, 123241, 123659, 123397, 124655, 124434, 124648, 124278, 124023, 123139, 124806, 124734, 124870, 125002, 124964, 125111, 124907, 124892, 125218, 123082, 125459, 125511, 125646, 125551, 125259, 125936, 125945, 125857, 125674, 125256, 126421, 126479, 126881, 126905, 126209, 126065, 255855, 127272, 127554, 127698, 127564, 127870, 127716, 127835, 128718, 127993, 128163, 128083, 128250, 128202, 128369, 128262, 127919, 128577, 128761, 128467, 128766, 130615, 128985, 129022, 129052, 129034, 128969, 129454, 129278, 129466, 129656, 129559, 128817, 130310, 130370, 130121, 130429, 130084, 130651, 130865, 130556, 134388, 131074, 131100, 131184, 131439, 131243, 131267, 131071, 131648, 131664, 131841, 131849, 132041, 131728, 131608, 132275, 132278, 132106, 130966, 132334, 132869, 132765, 132465, 133234, 133318, 133013, 132675, 133392, 133649, 133773, 132457, 133890, 133966, 133861, 134101, 133801, 134485, 134789, 134330, 143369, 135219, 135234, 135343, 135269, 135836, 135792, 135798, 135482, 135370, 136702, 136064, 136096, 136147, 135971, 136201, 135929, 136927, 136982, 136314, 134913, 137298, 137360, 137414, 137491, 137725, 137094, 138120, 137076, 138317, 139459, 139457, 139162, 139310, 139539, 139624, 139065, 139719, 134875, 139822, 140050, 140041, 139925, 140636, 140567, 140093, 140628, 140021, 140760, 140921, 140864, 141227, 141120, 141629, 141229, 141775, 140753, 141831, 141911, 141934, 139848, 142227, 142314, 142425, 142500, 142670, 142045, 142672, 141958, 142693, 143041, 142851, 142744, 142817, 143167, 143216, 142717, 143526, 159032, 143798, 144231, 144344, 144334, 144740, 144666, 144673, 144648, 144561, 145145, 144847, 144998, 145043, 144747, 145118, 144741, 145330, 145660, 145131, 147577, 145918, 146402, 146437, 146529, 146601, 145764, 146778, 145687, 147064, 147512, 147502, 147368, 147398, 147518, 147539, 147291, 147621, 147588, 143734, 147747, 147777, 148007, 148167, 148118, 148140, 147736, 148241, 148272, 148544, 148551, 148714, 148466, 148215, 148906, 148930, 148846, 147672, 149022, 149402, 149265, 149187, 149557, 149631, 149525, 149221, 149705, 149950, 149952, 149047, 150047, 150049, 149981, 150224, 149976, 150263, 150231, 143689, 150350, 150604, 150504, 150689, 150628, 150987, 150848, 151028, 150952, 151393, 152390, 151626, 152141, 152155, 151729, 152226, 151709, 152422, 152633, 152230, 150546, 153541, 153319, 153686, 153801, 153624, 154132, 153813, 154145, 154484, 154284, 154596, 154338, 153625, 154615, 154775, 154921, 154679, 154774, 155005, 150486, 155075, 155136, 155282, 155611, 155491, 155545, 155074, 156485, 156503, 156619, 156666, 156703, 156581, 156380, 156768, 156968, 156725, 155038, 156994, 157516, 157343, 157223, 157684, 157709, 157598, 157256, 157738, 157791, 157835, 157065, 158090, 158277, 158014, 158855, 157872, 159303, 158962, 127289, 159759, 159775, 159908, 159876, 160461, 159989, 160059, 159972, 159962, 161254, 160561, 160687, 160896, 160551, 161091, 160469, 161438, 161483, 161104, 162684, 161770, 161808, 161879, 161893, 161976, 161597, 161985, 161558, 162101, 162531, 162435, 162242, 162266, 162564, 162648, 162132, 162907, 162860, 166310, 163673, 163881, 164012, 163884, 164378, 164222, 164237, 164200, 164168, 163437, 164982, 164698, 165018, 165152, 165139, 165276, 165129, 165118, 165310, 163286, 165390, 165411, 165822, 165819, 165355, 165929, 165949, 165893, 165867, 165332, 166059, 166123, 166141, 166222, 166041, 165952, 159746, 166662, 166719, 167006, 166940, 167564, 167401, 167073, 167517, 168620, 167627, 167960, 167735, 168110, 168053, 168280, 168214, 167588, 168521, 168720, 168302, 168739, 166928, 168804, 168743, 168953, 169032, 168899, 169151, 169149, 169187, 169351, 169188, 169376, 169347, 168947, 169478, 169764, 169818, 169665, 169697, 169913, 166470, 170158, 170274, 170435, 170686, 170500, 170570, 170106, 170801, 171018, 171456, 171777, 172041, 171438, 170725, 172362, 172533, 172265, 169991, 172705, 173587, 173330, 173105, 173788, 173887, 173782, 173148, 173931, 174009, 174015, 173002, 174272, 174307, 174162, 174556, 174147, 174743, 174629, 159706, 174855, 175012, 175127, 175105, 175488, 175261, 175264, 176554, 175632, 175698, 175644, 175786, 175700, 176265, 176014, 175549, 176454, 176568, 176415, 176624, 178470, 177212, 177381, 177388, 177567, 177577, 177196, 177715, 177037, 177743, 178387, 178343, 177866, 177941, 178402, 178416, 177752, 178815, 178770, 174971, 178913, 179105, 179281, 179409, 179367, 179389, 178872, 179814, 179854, 179922, 180039, 180104, 179899, 179491, 180160, 180176, 180118, 178865, 180239, 180498, 180293, 180279, 180629, 180731, 180556, 180281, 180781, 180854, 181005, 180255, 181247, 181294, 181130, 181304, 181057, 181396, 181375, 174858, 181449, 181922, 182370, 182367, 182942, 182517, 182868, 183370, 182970, 183046, 183010, 183112, 183083, 183331, 183182, 183359, 182964, 183527, 183488, 181529, 183954, 184197, 184425, 184589, 184902, 183814, 184907, 183610, 185016, 185870, 185715, 185530, 185655, 185879, 185895, 185202, 185979, 181471, 186110, 186498, 186316, 186147, 187129, 186743, 186508, 186950, 186175, 187242, 187393, 187388, 187738, 187475, 187868, 187771, 188078, 187188, 188236, 188270, 188313, 186126, 188654, 188671, 188680, 188748, 188839, 188601, 188847, 188452, 188988, 189422, 189247, 189003, 189135, 189680, 189733, 188994, 189949, 190072, 127204, 190212, 190432, 190515, 190998, 190699, 190827, 192078, 191041, 191210, 191086, 191338, 191337, 191786, 191588, 191017, 191858, 192097, 191854, 194045, 192283, 192574, 192597, 192764, 192987, 192725, 192541, 193114, 193221, 193247, 192177, 193570, 193697, 193898, 193933, 193412, 193318, 197962, 194155, 194362, 194825, 194732, 195134, 194993, 194976, 195023, 194397, 195588, 195707, 195642, 196165, 195929, 196469, 196434, 196482, 195328, 196511, 196574, 196688, 194106, 196948, 196952, 197072, 197123, 197241, 196930, 197258, 196872, 197712, 197812, 197780, 197756, 197765, 197884, 197889, 197749, 198122, 198059, 204406, 198361, 198426, 198732, 199152, 198769, 198944, 200495, 199222, 199400, 199726, 199731, 199732, 199478, 199215, 199959, 200204, 200111, 198347, 200675, 200705, 200760, 200947, 200769, 200750, 200970, 201287, 201165, 200506, 201301, 201548, 201328, 201407, 201998, 201693, 201322, 202187, 202195, 202135, 202058, 198174, 202383, 202385, 202506, 202398, 203128, 202889, 203037, 202791, 202518, 202273, 203234, 203209, 203235, 203379, 203341, 203443, 203335, 203321, 203513, 202216, 203672, 203710, 203823, 203795, 203667, 203886, 203889, 203867, 203839, 203636, 204070, 204183, 204314, 204317, 204020, 203945, 190126, 204615, 205311, 205567, 205449, 205825, 205571, 205802, 207153, 206043, 206470, 206198, 206760, 206473, 206803, 206788, 206041, 207040, 207218, 206891, 209003, 207327, 207416, 207544, 207745, 207882, 207687, 207361, 207956, 208040, 208197, 207311, 208593, 208656, 208724, 208833, 208586, 208263, 204877, 209069, 209131, 209253, 209398, 209337, 209717, 209579, 209727, 209593, 209879, 209158, 209992, 210065, 210075, 210034, 210239, 210251, 210010, 210276, 209055, 210319, 210505, 210473, 210620, 210512, 210499, 210936, 211611, 211519, 210388, 211826, 212333, 212136, 212161, 212396, 212389, 211846, 212539, 212679, 212507, 212460, 204594, 213425, 213530, 213590, 213772, 213607, 213688, 214592, 214121, 214277, 214198, 214418, 214392, 214519, 214490, 214584, 213930, 214828, 214823, 213279, 215031, 215038, 215046, 215061, 215317, 214938, 215644, 214884, 215799, 217154, 217083, 216802, 216920, 217192, 217205, 216659, 217282, 212857, 217421, 218480, 218068, 217750, 218769, 218630, 218500, 218731, 217940, 218817, 219078, 218862, 219190, 219081, 219289, 219231, 219305, 218779, 219394, 219494, 219647, 217700, 219824, 219846, 219875, 219882, 219956, 219809, 220454, 219741, 220629, 221001, 220967, 220845, 220917, 221075, 221418, 220789, 221539, 190096, 221642, 221847, 221994, 221916, 222066, 221999, 222010, 223234, 222254, 222499, 222405, 222903, 222726, 223007, 222980, 222136, 223213, 223325, 223066, 223346, 226443, 223749, 223769, 223874, 223916, 224050, 223488, 224258, 223441, 224261, 225442, 225256, 225014, 225076, 225599, 226372, 224813, 226638, 226516, 230313, 226967, 226975, 227001, 227636, 227174, 227478, 226755, 227834, 227870, 227962, 228005, 228082, 227905, 227676, 228292, 228379, 228167, 226719, 228594, 229495, 229233, 228808, 229729, 229791, 229619, 229039, 229793, 229809, 229852, 228695, 230016, 230252, 229924, 230260, 229872, 230333, 230340, 230310, 221824, 230857, 231139, 231153, 231336, 231180, 231283, 232462, 231473, 231862, 231788, 232127, 232006, 232341, 232225, 232420, 231383, 232467, 232466, 230809, 232685, 232724, 232766, 232818, 232879, 232621, 233089, 232534, 233090, 233513, 233452, 233218, 233435, 233565, 233786, 233170, 233889, 230437, 233922, 234167, 234117, 233969, 234329, 234252, 234181, 234313, 234102, 234978, 235066, 235015, 235720, 235174, 235790, 235750, 235976, 234968, 235998, 236009, 236090, 233937, 236721, 236795, 236959, 237048, 237125, 236407, 237251, 236269, 237357, 237950, 237946, 237856, 237882, 238034, 238165, 237446, 238328, 221682, 238708, 238874, 238915, 238898, 239161, 238931, 238975, 240036, 239509, 239681, 239590, 239846, 239750, 239857, 239848, 239370, 240000, 240485, 239858, 240501, 242561, 240878, 240908, 241072, 241140, 241300, 240863, 241318, 240696, 241586, 242105, 241890, 241727, 241728, 242137, 242357, 241589, 242668, 242640, 238858, 242952, 243246, 243310, 243571, 243425, 243500, 242706, 243933, 243975, 244123, 244501, 244518, 244089, 243893, 244759, 244909, 244613, 242693, 245014, 245515, 245426, 245243, 245833, 245931, 245601, 245317, 245970, 245980, 245987, 245145, 246235, 246443, 246110, 246479, 246044, 246731, 246589, 238714, 246783, 248143, 248338, 248203, 248492, 248446, 248480, 249378, 248631, 248748, 248638, 248827, 248783, 249338, 248832, 249354, 248553, 249856, 249476, 248071, 250344, 250379, 250388, 250780, 250901, 250144, 250928, 249885, 251068, 251900, 251826, 251445, 251569, 251913, 251968, 251296, 252016, 247447, 252031, 252652, 252602, 252100, 253496, 253204, 252882, 253211, 252540, 253633, 253710, 253687, 254210, 253738, 254315, 254241, 254427, 253528, 254477, 254570, 254642, 252040, 254723, 254931, 254965, 255038, 255052, 254720, 255245, 254700, 255461, 255570, 255551, 255482, 255530, 255813, 255836, 255481, 256039, 506519, 256685, 256689, 256731, 257119, 256959, 257077, 257888, 257184, 257250, 257285, 257360, 257584, 257252, 257153, 257766, 257826, 257799, 259077, 258084, 258085, 258157, 258213, 258176, 258086, 258276, 258336, 258327, 257938, 258743, 258375, 258886, 258863, 258877, 258976, 258919, 259069, 258450, 259153, 259093, 262755, 259524, 259527, 259551, 259757, 259590, 259731, 259523, 259959, 260108, 260274, 260293, 260353, 260268, 259812, 260879, 261004, 260571, 259200, 261113, 261599, 261546, 261182, 261740, 261766, 261672, 261488, 262010, 262076, 262131, 261147, 262285, 262415, 262268, 262471, 262178, 262887, 262904, 262609, 271549, 263069, 263160, 263316, 263256, 263810, 263524, 263618, 263421, 263390, 265181, 264799, 264811, 264812, 263944, 264896, 263820, 265182, 265268, 265045, 262995, 265380, 265431, 265573, 265706, 265716, 265366, 266046, 265294, 266054, 266281, 266236, 266218, 266226, 266549, 266558, 266204, 266642, 262935, 266780, 267083, 267048, 266848, 267874, 267191, 267126, 267322, 266989, 267917, 268477, 268425, 269230, 268694, 269320, 269299, 269410, 267914, 269462, 269581, 269640, 266846, 269988, 270097, 270210, 270279, 270366, 269870, 270405, 269696, 270741, 271202, 271156, 270788, 271119, 271431, 271451, 270777, 271733, 285587, 271883, 271964, 272112, 271988, 272415, 272277, 272407, 272189, 272127, 273372, 272906, 272949, 273095, 272788, 273125, 272437, 273383, 273504, 273160, 275119, 273859, 274075, 274208, 274241, 274310, 273763, 274359, 273526, 274431, 274881, 274670, 274641, 274652, 274942, 274976, 274484, 275130, 275126, 271754, 275262, 275625, 275692, 275772, 275711, 275767, 275241, 275923, 276070, 276134, 276212, 276303, 276094, 275816, 276518, 276526, 276482, 275205, 276630, 277335, 277205, 276813, 277440, 277453, 277352, 276985, 277591, 277593, 277613, 276674, 277985, 278054, 277958, 278293, 277862, 278401, 278294, 271736, 278592, 278878, 278633, 279139, 279052, 279379, 279165, 279420, 279230, 279499, 280147, 279610, 279902, 279978, 279901, 280004, 279664, 280250, 280416, 280088, 278638, 280624, 280595, 281007, 281357, 280716, 281423, 281393, 281482, 282224, 281854, 282340, 282053, 280814, 282445, 282729, 282769, 282522, 282706, 282784, 278597, 283040, 283068, 283090, 283244, 283140, 283153, 283026, 283405, 283437, 283676, 283880, 283917, 283610, 283275, 284039, 284165, 283948, 282926, 284241, 284485, 284451, 284414, 284691, 284712, 284591, 284419, 284892, 284954, 284975, 284407, 285317, 285334, 285210, 285422, 285194, 285646, 285446, 313427, 285787, 285846, 286322, 286251, 286769, 286452, 286731, 286433, 286391, 287777, 287047, 287141, 287299, 286974, 287356, 286851, 287792, 287809, 287626, 288848, 288087, 288187, 288210, 288246, 288326, 288032, 288374, 288025, 288378, 288797, 288668, 288446, 288516, 288810, 288817, 288444, 288934, 288921, 291703, 289346, 289440, 289593, 289481, 289879, 289837, 289855, 289832, 289784, 289319, 290080, 289980, 290164, 290260, 290245, 290286, 290210, 290179, 290298, 289175, 290485, 290637, 290773, 290718, 290355, 291021, 291041, 291014, 290801, 290299, 291331, 291493, 291633, 291690, 291279, 291114, 285716, 291922, 292208, 292794, 292751, 293194, 292869, 292839, 293004, 294186, 293247, 293480, 293446, 293704, 293522, 293913, 293787, 293246, 294018, 294294, 293947, 294441, 292706, 294816, 294663, 295199, 295204, 294931, 295391, 295333, 295438, 295500, 295483, 295551, 295497, 295082, 295723, 295995, 296081, 295731, 295970, 296122, 291740, 296428, 296539, 296603, 296749, 296659, 296745, 296382, 296775, 296841, 297036, 297064, 297067, 296939, 296761, 297155, 297217, 297096, 296223, 297395, 298107, 298036, 297694, 298274, 298304, 298189, 297857, 298311, 298532, 298567, 297411, 298869, 298935, 298863, 298963, 298823, 299104, 299077, 299205, 285656, 299530, 299970, 300218, 300210, 300614, 300419, 300493, 300413, 300308, 301345, 300754, 300783, 300787, 300719, 301264, 300688, 301418, 301532, 301293, 302987, 301696, 301770, 301791, 301798, 301849, 301629, 301872, 301613, 301999, 302599, 302520, 302236, 302391, 302669, 302671, 302080, 303329, 303051, 299247, 303755, 303815, 303819, 303935, 303859, 303903, 303540, 304147, 304157, 304212, 304270, 304455, 304190, 304100, 304735, 304738, 304572, 303468, 304898, 305420, 305231, 305147, 305807, 305876, 305615, 305215, 305894, 305954, 305958, 304975, 306271, 306288, 306039, 306298, 306016, 306392, 306322, 299239, 306418, 307083, 307152, 307266, 307342, 307260, 307347, 307625, 307620, 308233, 307785, 308107, 308191, 307984, 308203, 308211, 307846, 306592, 308256, 308336, 308411, 308536, 308509, 308339, 308604, 308789, 308613, 308242, 308824, 309578, 309415, 309550, 309605, 309581, 308987, 309911, 309958, 309887, 309834, 306422, 310422, 310895, 311074, 310947, 311417, 311212, 311312, 311183, 311089, 310386, 311514, 311444, 311519, 312168, 312123, 312216, 311790, 311598, 312285, 310342, 312405, 312411, 312458, 312454, 312332, 312845, 312862, 312826, 312465, 312322, 313100, 313134, 313254, 313364, 313026, 312948, 256678, 313879, 314047, 314118, 314115, 314467, 314269, 314348, 315390, 314631, 314884, 314650, 315027, 314946, 315241, 315124, 314484, 315371, 315392, 315289, 315407, 317658, 315746, 315915, 315996, 316233, 316355, 315623, 316431, 315494, 316478, 317107, 317006, 316759, 316964, 317194, 317296, 316559, 317991, 317989, 322946, 318228, 318302, 318381, 318948, 318407, 318590, 318215, 319092, 319099, 319256, 319296, 319766, 319247, 318987, 320173, 320209, 320003, 318064, 320225, 321792, 321688, 320541, 321870, 321972, 321867, 321287, 322122, 322362, 322473, 320535, 322696, 322710, 322691, 322713, 322633, 322986, 323007, 322868, 329465, 323324, 323362, 323907, 323803, 324379, 324222, 324320, 324147, 323930, 324848, 324510, 324523, 324658, 324440, 324667, 324435, 324898, 324910, 324719, 323132, 325367, 325376, 325455, 325538, 325657, 325344, 325663, 325299, 325704, 325963, 325857, 325723, 325758, 326039, 326059, 325722, 326064, 323108, 326117, 326829, 326572, 326347, 327247, 327145, 327069, 327158, 326537, 327492, 327575, 327530, 327630, 327620, 327893, 327724, 327961, 327391, 327975, 328076, 328174, 326243, 328333, 328360, 328481, 328561, 328658, 328284, 328732, 328217, 328754, 329123, 329112, 328871, 329079, 329135, 329197, 328808, 329727, 314009, 329981, 330050, 330285, 330211, 330529, 330403, 330482, 330402, 330397, 331445, 330656, 330705, 330760, 330600, 330975, 330574, 331541, 331584, 331098, 333187, 331873, 331926, 331969, 331979, 331996, 331789, 332188, 331675, 332208, 333016, 332948, 332537, 332734, 333095, 333142, 332262, 333430, 333283, 329907, 333852, 333928, 334018, 334275, 334044, 334141, 333689, 334701, 334762, 334829, 334964, 335001, 334788, 334653, 335100, 335200, 335033, 333506, 335320, 335679, 335643, 335457, 335885, 336040, 335798, 335528, 336159, 336298, 336323, 335332, 336709, 336746, 336578, 337013, 336395, 337199, 337166, 329740, 337323, 338122, 337403, 338470, 338378, 338799, 338555, 338807, 338581, 338849, 340309, 339014, 339491, 339724, 339485, 339780, 339158, 340339, 340359, 339842, 338089, 340432, 340391, 341017, 341036, 340622, 341098, 341053, 341279, 341320, 341286, 341400, 341287, 340878, 341450, 342141, 342153, 341514, 341734, 342195, 337360, 342370, 342630, 342662, 343056, 342759, 342911, 342366, 343079, 343115, 343233, 343266, 343300, 343167, 343069, 343546, 343556, 343415, 342355, 343841, 344639, 344321, 344298, 344739, 344748, 344711, 344307, 344986, 345030, 345031, 344141, 345299, 345508, 345179, 345767, 345168, 345970, 345940, 313563, 346059, 346364, 346756, 346501, 346891, 346816, 346849, 348087, 347015, 347250, 347113, 347811, 347739, 347872, 347842, 346994, 348041, 348114, 347959, 348296, 349661, 348599, 348726, 348781, 348892, 348956, 348499, 348961, 348320, 348977, 349580, 349468, 349304, 349402, 349594, 349596, 349222, 349902, 349841, 353759, 350149, 350164, 350464, 350937, 350569, 350819, 350147, 351232, 351252, 351293, 351317, 351428, 351256, 351042, 351704, 351816, 351640, 349952, 352017, 352561, 352401, 352227, 352781, 352824, 352662, 352243, 352941, 352942, 352960, 352159, 353485, 353500, 353484, 353684, 353331, 353762, 353785, 353703, 346133, 354735, 355016, 355120, 355047, 355544, 355253, 355301, 355168, 355165, 356253, 355617, 355904, 355910, 355602, 355933, 355566, 356256, 356262, 356246, 354508, 356295, 356366, 356377, 356412, 356490, 356292, 356606, 356279, 356848, 357009, 356997, 356905, 356959, 357011, 357094, 356881, 357194, 354086, 357297, 358095, 358037, 357732, 358222, 358117, 358112, 358196, 357773, 358472, 358695, 358547, 358780, 358724, 358948, 358854, 359034, 358370, 359178, 359242, 359251, 357677, 359418, 359420, 359702, 359880, 359929, 359352, 359942, 359254, 360022, 360480, 360359, 360161, 360280, 360501, 360529, 360064, 360618, 346072, 360704, 361019, 361291, 361162, 361462, 361336, 361355, 363317, 362162, 362475, 362263, 362595, 362524, 363120, 363090, 361893, 363241, 363458, 363198, 363471, 364592, 363860, 363959, 363987, 364160, 364162, 363794, 364213, 363474, 364229, 364357, 364302, 364241, 364247, 364527, 364550, 364238, 364737, 364696, 360871, 364918, 365061, 365195, 365692, 365215, 365462, 364908, 366036, 366075, 366441, 366466, 366498, 366399, 365755, 366548, 366693, 366533, 364814, 366765, 367138, 366968, 366896, 367386, 367482, 367227, 366946, 367504, 367529, 367670, 366893, 367920, 368069, 367797, 368070, 367747, 368226, 368084, 360839, 368520, 368855, 369030, 368888, 369394, 369084, 369369, 369793, 369586, 369657, 369594, 369738, 369671, 369759, 369741, 369782, 369533, 369988, 369966, 368600, 370294, 370297, 370424, 370471, 370489, 370185, 370498, 370060, 370515, 370979, 370804, 370585, 370625, 371006, 371103, 370576, 371185, 368525, 371210, 371656, 371618, 371261, 372166, 371746, 371658, 372057, 371569, 372506, 372557, 372521, 372707, 372617, 373063, 372794, 373208, 372205, 373243, 373328, 373544, 371238, 373705, 373768, 373812, 374012, 374098, 373676, 374109, 373660, 374146, 374628, 374576, 374360, 374466, 374652, 374698, 374244, 374775, 374781, 256527, 375161, 375188, 375486, 375289, 375824, 375669, 375785, 375577, 375523, 377121, 376461, 376620, 376762, 376367, 376966, 375963, 377228, 377322, 377087, 378890, 377777, 377952, 377989, 378022, 378242, 377384, 378302, 377353, 378319, 378528, 378514, 378362, 378383, 378715, 378825, 378354, 379105, 379008, 383449, 379394, 379455, 379652, 379549, 380485, 380319, 380392, 379861, 379744, 379338, 380892, 380631, 381084, 381473, 381436, 381611, 381270, 381206, 381629, 379195, 382068, 382105, 382437, 382284, 381971, 382492, 382555, 382467, 382449, 381637, 382812, 382849, 383141, 383423, 382640, 382606, 393563, 383680, 383727, 383983, 383837, 384435, 384257, 384141, 384275, 385364, 384519, 384908, 384857, 384953, 384928, 385169, 385092, 384462, 385304, 385515, 385244, 385623, 383824, 385944, 385811, 386234, 386368, 385961, 386641, 386568, 386668, 387506, 387224, 387569, 387272, 386095, 387603, 387824, 388023, 387675, 387794, 388038, 383543, 388275, 388570, 388677, 388947, 388696, 388742, 388244, 389109, 389534, 389675, 389936, 390073, 389660, 389063, 390417, 390451, 390339, 388116, 390470, 391821, 391195, 390962, 391874, 392005, 391862, 391055, 392376, 392463, 392608, 390787, 393150, 393204, 392840, 393299, 392655, 393646, 393319, 411188, 394016, 394305, 394354, 394795, 394686, 394704, 395761, 394884, 395115, 394985, 395254, 395136, 395546, 395259, 394829, 395651, 395981, 395612, 399423, 396111, 396673, 397088, 397662, 397732, 397191, 396408, 397853, 397873, 397910, 396089, 398574, 398892, 399045, 399340, 398497, 397950, 393932, 399599, 399623, 399738, 399931, 399825, 400039, 399952, 400081, 400014, 400093, 399647, 400245, 400440, 400563, 400400, 400587, 400716, 400365, 400728, 399464, 400799, 401483, 401181, 401757, 401721, 401183, 402052, 402215, 402105, 400934, 402418, 402735, 402536, 402722, 403331, 403183, 402420, 403542, 403553, 403533, 403363, 393811, 403957, 404293, 404415, 404746, 404428, 404572, 405454, 404857, 404998, 404883, 405178, 405023, 405349, 405241, 405373, 404838, 405778, 405686, 403830, 405974, 406019, 406134, 406167, 406291, 405932, 406401, 405824, 406410, 407150, 407034, 406642, 406903, 407159, 407248, 406491, 407382, 403632, 407416, 408080, 407994, 408156, 408146, 408775, 408348, 408782, 408724, 408890, 408026, 408940, 409089, 409176, 409038, 409384, 409035, 409471, 409445, 409513, 407534, 409670, 409942, 410060, 410163, 410202, 410143, 409824, 410490, 410553, 410559, 409819, 410766, 410901, 410950, 411159, 410765, 410653, 375145, 411360, 411438, 411577, 411484, 411734, 411647, 411726, 412812, 411933, 412207, 412149, 412479, 412477, 412598, 412570, 411832, 412688, 412934, 412642, 414992, 413026, 413478, 413508, 413700, 414002, 413528, 413064, 414262, 414353, 414480, 412957, 414728, 414808, 414690, 414865, 414526, 415002, 414932, 418290, 415127, 415192, 415275, 415206, 415593, 415324, 415344, 415164, 415764, 415827, 415767, 415907, 415904, 415974, 415963, 416053, 415750, 416233, 416244, 416266, 415005, 416720, 416981, 417355, 417089, 416602, 417562, 417580, 417419, 417374, 416382, 417918, 417998, 418130, 418287, 417901, 417752, 411437, 418354, 418528, 418678, 418673, 419184, 419020, 418897, 419136, 420071, 419233, 419493, 419328, 419757, 419660, 419849, 419764, 419185, 420069, 420187, 419860, 420253, 418586, 420432, 420378, 420680, 420689, 420444, 420859, 420807, 420909, 421219, 420923, 421240, 421215, 420526, 421250, 421550, 421715, 421417, 421436, 421967, 418316, 422331, 422398, 422427, 422541, 422532, 422538, 422214, 422646, 422653, 423034, 423382, 423407, 423010, 422569, 423829, 423979, 423702, 422118, 424001, 424396, 424358, 424134, 424532, 424536, 424425, 424323, 424549, 424568, 424614, 424026, 424868, 424899, 424863, 425018, 424767, 425234, 425137, 425289, 411290, 425433, 425757, 426401, 426260, 426749, 426447, 426518, 426443, 426427, 427011, 426953, 426974, 426992, 426876, 427003, 426786, 427069, 427252, 427006, 428663, 427407, 427461, 427498, 427525, 427540, 427288, 427707, 427277, 427724, 428362, 428253, 427970, 428057, 428374, 428467, 427827, 428755, 428673, 425378, 429296, 429317, 429332, 429847, 429428, 429594, 429138, 430014, 430121, 430480, 430491, 430724, 430343, 429902, 431063, 431374, 430829, 428893, 431409, 431938, 431916, 431658, 432062, 432144, 432046, 431812, 432359, 432417, 432769, 431411, 433301, 433422, 432934, 433946, 432840, 434029, 434001, 425377, 434386, 434561, 434781, 434773, 435004, 434885, 434912, 435834, 435033, 435362, 435067, 435600, 435464, 435782, 435731, 435826, 435027, 436061, 436036, 434474, 436436, 436448, 436604, 436685, 436797, 436179, 436829, 436117, 436916, 437185, 437180, 436953, 436989, 437388, 437438, 436947, 437516, 434400, 437633, 438230, 438182, 438057, 439058, 438654, 438365, 438723, 438075, 439289, 439492, 439372, 439671, 439668, 439716, 439690, 439718, 439186, 439996, 440218, 440240, 437876, 440434, 440587, 440598, 440623, 440726, 440327, 440804, 440263, 440911, 442031, 441658, 441363, 441439, 442415, 442503, 441183, 442530, 374952, 442622, 442919, 443075, 442979, 443679, 443159, 443330, 444808, 444020, 444110, 444058, 444377, 444301, 444421, 444399, 443949, 444522, 444821, 444450, 444872, 446497, 445063, 445259, 445320, 445471, 445524, 444975, 445644, 444914, 445782, 446462, 446068, 445950, 445990, 446467, 446482, 445870, 446640, 446540, 450889, 447036, 447106, 447140, 448152, 447491, 447661, 446739, 448235, 448248, 448488, 448553, 448603, 448328, 448161, 448819, 448841, 448706, 446656, 448883, 449744, 449701, 449365, 449815, 449835, 449800, 449412, 449841, 449844, 449894, 449217, 450286, 450536, 450026, 450819, 449940, 451247, 451259, 450841, 458586, 451673, 451700, 451738, 451926, 451755, 451871, 453168, 452383, 452419, 452669, 452675, 452714, 452435, 452136, 452847, 453150, 452992, 451527, 453411, 453446, 453763, 453806, 453771, 453644, 453814, 453990, 453834, 453240, 454237, 454646, 454564, 454572, 454869, 454833, 454413, 455013, 455022, 454983, 454956, 451397, 455453, 455462, 455501, 455488, 456135, 455679, 455773, 455562, 455532, 455392, 456192, 456179, 456363, 456737, 456497, 457058, 456470, 456400, 457157, 455023, 457440, 457459, 457706, 457579, 457416, 457941, 457953, 457894, 457763, 457309, 458431, 458437, 458483, 458534, 458376, 458362, 442775, 458704, 458959, 459273, 459185, 459550, 459490, 459529, 460526, 459670, 459978, 459752, 460064, 460008, 460410, 460115, 459589, 460508, 460621, 460490, 460900, 462851, 460977, 461023, 461098, 461126, 461194, 460961, 461206, 460910, 461217, 462029, 461858, 461414, 461856, 462035, 462493, 461249, 462981, 462955, 458877, 463158, 463370, 463563, 463897, 463581, 463754, 463141, 464302, 464544, 464735, 464829, 464847, 464682, 463971, 465195, 465209, 464932, 462992, 465344, 465684, 465584, 465530, 465725, 465755, 465696, 465558, 465817, 465913, 465974, 465399, 466108, 466138, 466039, 466259, 466020, 466410, 466298, 458678, 466556, 467011, 466668, 467339, 467261, 467710, 467362, 467721, 467662, 467809, 468481, 467858, 468346, 468349, 468324, 468394, 468404, 468045, 468544, 466861, 468969, 469176, 469253, 469288, 469345, 469278, 469063, 469498, 469565, 469567, 468743, 469722, 469759, 469655, 469786, 469645, 469963, 469937, 466640, 469992, 470913, 470789, 470457, 471289, 471119, 471094, 471202, 470662, 471570, 471727, 471636, 472173, 471766, 472290, 472266, 472389, 471545, 472435, 472509, 472528, 470071, 472839, 472908, 473048, 473167, 473273, 472833, 473432, 472819, 473527, 474226, 474216, 473758, 474071, 474456, 474492, 473719, 474562, 474663, 442674, 475554, 475728, 475856, 475973, 475898, 475921, 477345, 476167, 476575, 476282, 476788, 476672, 476906, 476806, 476108, 477254, 477398, 477167, 478854, 477831, 477890, 477908, 478113, 478139, 478093, 477849, 478192, 478288, 478362, 477825, 478499, 478549, 478588, 478614, 478491, 478386, 482554, 479026, 479072, 479233, 479225, 479574, 479518, 479266, 479566, 479145, 479606, 479735, 479725, 479853, 479834, 480075, 480028, 480168, 479576, 480649, 480660, 480733, 479006, 481046, 481148, 481300, 481472, 481537, 480897, 481797, 480829, 481881, 482379, 482205, 482120, 482202, 482471, 482540, 481978, 482645, 482612, 475420, 483179, 483189, 483246, 483507, 483371, 483425, 484111, 483544, 483768, 483561, 483929, 483882, 484005, 483994, 484036, 483524, 484635, 484430, 482858, 484958, 484991, 485197, 485350, 485365, 484929, 485512, 484679, 486058, 486329, 486184, 486101, 486163, 486407, 486581, 486074, 486652, 482855, 486667, 487393, 487237, 487136, 487689, 487657, 487589, 487673, 487175, 487841, 488129, 487987, 488233, 488130, 488586, 488447, 488694, 487816, 488895, 488963, 488989, 487035, 489161, 489199, 489291, 489297, 489452, 489135, 489507, 489032, 489529, 490644, 490413, 489575, 490310, 490656, 490676, 489567, 490686, 474919, 490853, 491652, 491747, 491696, 492060, 491884, 491981, 493322, 492393, 492583, 492404, 492902, 492608, 493164, 492976, 492210, 493227, 493380, 493191, 493458, 495734, 493707, 493966, 493998, 494035, 494403, 493691, 494467, 493655, 494720, 495324, 495258, 494931, 495163, 495328, 495629, 494910, 495962, 495878, 490999, 496166, 496190, 496341, 496665, 496406, 496585, 496089, 496770, 496773, 496995, 497123, 497156, 496895, 496689, 497288, 497303, 497276, 496062, 497345, 498037, 497903, 497458, 498257, 498328, 498057, 497681, 498376, 498585, 498591, 497393, 499069, 499294, 498864, 499488, 498615, 499867, 499829, 499920, 490881, 500478, 500496, 500583, 500789, 500638, 500655, 501198, 500853, 500988, 500913, 501008, 501006, 501142, 501137, 501169, 500820, 501302, 501245, 500041, 501691, 501921, 502047, 502156, 502230, 501532, 502244, 501364, 502415, 503010, 502958, 502657, 502940, 503043, 503052, 502442, 503160, 499954, 503164, 503579, 503192, 503970, 503667, 504198, 504125, 504235, 504179, 504406, 503314, 504510, 504589, 504638, 504572, 504698, 504511, 504755, 504705, 504919, 503166, 505060, 505309, 505373, 505626, 505697, 505504, 505232, 505737, 505757, 505786, 505189, 506105, 506381, 506388, 506497, 505971, 505964, 999430, 506526, 506749, 507053, 506807, 507226, 507150, 507220, 508328, 507661, 507820, 507812, 507981, 507919, 508091, 507993, 507638, 508170, 508447, 508143, 508836, 510407, 509114, 509143, 509478, 509317, 508982, 509606, 509530, 509621, 509745, 509655, 508976, 510165, 510235, 510073, 510352, 509975, 510466, 510469, 510364, 515426, 511051, 511102, 511108, 511314, 511189, 511217, 510975, 511646, 511858, 511982, 512061, 512238, 511974, 511629, 512273, 512483, 512269, 510907, 512660, 513222, 512965, 512702, 513606, 513829, 513418, 512789, 514154, 514456, 514529, 512698, 514987, 515204, 514914, 515337, 514534, 515603, 515754, 515370, 522435, 516127, 516154, 516260, 516199, 516574, 516514, 516543, 516467, 516333, 517235, 516915, 516933, 516938, 516828, 517004, 516629, 517271, 517352, 517157, 515958, 517732, 517822, 517839, 517872, 518098, 517577, 518394, 517453, 518410, 519151, 518705, 518574, 518695, 519255, 519325, 518435, 519464, 515802, 519510, 519769, 519743, 519568, 519916, 519898, 519827, 519904, 519718, 520330, 520462, 520458, 520566, 520505, 520806, 520769, 520972, 520121, 520986, 521123, 521170, 519520, 521324, 521366, 521490, 521513, 521578, 521250, 521624, 521191, 521695, 522185, 522168, 522026, 522134, 522360, 522379, 521841, 522498, 537939, 522851, 523008, 523079, 523043, 523266, 523168, 523182, 523147, 523097, 523906, 523341, 523574, 523684, 523321, 523692, 523296, 524058, 524093, 523722, 526955, 525585, 525591, 525622, 525661, 526106, 525072, 526171, 524393, 526215, 526638, 526456, 526382, 526411, 526874, 526924, 526343, 527171, 526963, 522711, 527365, 527574, 527650, 527828, 527723, 527725, 527362, 528062, 528079, 528330, 528332, 528460, 528290, 527875, 528561, 528904, 528537, 527189, 528966, 529653, 529647, 529213, 529766, 529806, 529681, 529345, 529994, 530036, 530062, 529101, 530140, 530176, 530083, 530383, 530067, 530588, 530505, 522584, 530619, 530993, 530908, 531100, 531030, 531234, 531119, 531298, 531218, 531300, 532212, 531486, 531820, 531854, 531746, 531992, 531489, 532229, 532231, 532198, 530927, 532293, 532263, 532625, 532732, 532334, 533323, 532990, 533394, 533501, 533412, 533600, 533484, 532429, 533625, 533849, 534037, 533642, 533676, 534132, 530865, 534216, 534380, 534476, 535027, 534557, 534865, 534162, 535159, 535427, 535643, 535896, 535947, 535551, 535047, 535978, 536079, 535950, 534144, 536109, 536772, 536647, 536369, 536835, 536925, 536787, 536636, 536976, 537136, 537171, 536221, 537414, 537422, 537342, 537732, 537253, 537994, 537929, 572271, 538133, 538333, 538367, 538339, 538637, 538526, 538596, 538485, 538473, 539706, 538871, 538965, 539097, 538801, 539314, 538699, 539915, 539963, 539589, 541572, 540335, 540354, 540623, 540728, 540741, 540066, 540812, 540001, 540850, 541318, 541305, 540982, 541274, 541459, 541567, 540950, 541717, 541594, 546041, 542226, 542269, 542485, 542402, 543549, 543259, 543356, 543126, 542546, 542209, 543784, 543663, 543997, 544323, 544147, 544392, 544126, 544090, 544430, 541951, 544458, 544609, 544654, 544637, 544445, 545242, 545418, 544830, 544704, 544433, 545872, 545955, 545959, 545983, 545808, 545754, 538087, 546402, 546499, 547236, 546846, 547624, 547444, 547335, 547530, 549120, 547918, 548285, 548062, 548603, 548359, 548943, 548751, 547820, 549053, 549267, 549052, 549300, 546551, 549376, 549328, 549530, 549559, 549503, 549628, 549585, 549707, 549906, 549879, 549918, 549893, 549517, 549995, 550495, 550596, 550378, 550391, 550746, 546360, 551210, 551281, 551283, 551630, 551578, 551601, 550851, 552155, 552157, 552388, 552404, 552588, 552335, 552129, 552808, 552995, 552642, 550799, 553010, 553296, 553207, 553102, 553507, 553532, 553428, 553182, 553544, 553675, 553836, 553079, 554488, 554576, 554342, 554587, 553884, 554921, 554837, 537999, 555027, 555170, 555282, 555173, 555418, 555368, 555389, 556586, 555464, 555554, 555492, 556241, 555731, 556370, 556349, 555425, 556542, 556637, 556381, 556787, 558502, 556998, 557148, 557216, 557269, 557299, 556857, 557531, 556850, 557572, 558364, 558125, 557833, 558124, 558372, 558381, 557592, 558735, 558648, 555086, 558894, 558899, 559119, 559311, 559133, 559291, 558787, 559742, 559974, 560318, 560426, 560949, 560089, 559606, 561350, 561705, 561041, 558739, 561741, 562477, 562474, 562060, 562732, 562761, 562697, 562368, 562847, 562874, 562917, 562042, 563129, 563184, 563040, 563522, 562941, 563647, 563560, 555076, 563730, 564143, 564640, 564536, 565437, 564657, 564824, 566085, 565510, 565544, 565539, 565731, 565648, 565998, 565884, 566031, 565438, 566578, 566351, 564059, 566664, 566712, 566785, 566978, 567043, 566655, 567085, 566629, 567090, 567687, 567601, 567335, 567544, 567861, 567961, 567229, 568166, 563734, 568395, 568600, 568466, 568413, 568801, 568707, 568684, 568712, 568447, 568831, 568949, 568872, 569325, 569078, 569405, 569355, 569482, 568810, 569724, 569775, 569835, 568397, 570221, 570330, 570661, 570709, 570769, 569912, 570959, 569902, 571324, 572246, 572066, 571596, 571940, 572262, 572270, 571566, 572400, 635187, 572546, 572574, 572578, 573240, 572651, 572871, 573947, 573443, 573519, 573503, 573566, 573533, 573694, 573687, 573294, 573930, 574153, 573732, 575695, 574516, 574585, 574605, 574778, 575044, 574628, 574582, 575233, 575234, 575261, 574245, 575474, 575545, 575564, 575660, 575353, 575291, 579453, 575715, 575740, 575832, 575749, 576288, 576202, 575845, 576225, 575748, 576471, 576505, 576473, 576596, 576586, 576834, 576692, 576932, 576296, 576964, 577038, 577170, 575711, 577435, 577442, 577511, 577564, 577606, 577287, 577760, 577242, 577820, 578643, 578613, 578024, 578278, 579125, 579165, 577919, 579472, 579467, 587365, 579692, 579807, 579814, 580114, 579948, 580039, 580549, 580202, 580228, 580330, 580396, 580399, 580255, 580137, 580412, 580501, 580436, 579672, 580647, 580768, 580932, 581018, 581017, 580860, 581230, 581276, 581242, 580602, 581352, 582013, 581967, 581989, 582378, 582019, 581605, 582799, 582842, 582620, 582395, 579589, 583509, 583601, 583710, 583702, 584091, 583865, 583898, 583767, 583718, 583473, 584488, 584456, 584656, 585173, 584923, 585182, 584915, 584717, 585248, 583050, 585481, 585497, 585875, 585542, 585368, 586464, 586537, 586458, 585935, 585267, 586910, 586996, 587082, 587091, 586756, 586729, 572465, 587683, 587763, 587940, 587891, 588366, 587960, 588230, 589119, 588522, 588690, 588677, 588818, 588721, 588924, 588857, 588459, 589095, 589268, 589022, 591765, 589623, 590053, 590131, 590282, 590433, 590196, 590008, 591009, 591036, 591057, 589503, 591262, 591457, 591481, 591492, 591164, 591082, 587755, 591841, 591987, 592430, 592490, 592462, 592704, 592524, 592731, 592642, 592848, 592032, 593069, 593115, 593170, 593102, 593183, 593308, 593083, 593445, 591796, 593659, 593865, 593712, 593954, 593877, 593811, 593959, 594174, 594052, 593667, 594186, 595344, 595273, 595287, 595691, 595574, 594598, 595814, 595925, 595791, 595724, 587682, 596368, 596410, 596481, 597226, 596635, 596716, 598342, 597349, 597549, 597447, 597754, 597693, 597816, 597783, 598055, 597305, 598525, 598350, 596297, 598802, 598850, 599044, 599270, 599298, 598768, 599395, 598764, 599452, 600138, 600104, 600101, 600103, 600194, 600205, 599672, 600236, 596111, 600445, 601597, 601591, 601215, 601876, 601756, 601697, 601764, 601561, 602076, 602415, 602155, 602478, 602443, 602966, 602899, 602994, 601926, 603201, 603254, 603271, 600460, 603449, 603503, 603529, 603566, 603756, 603396, 603841, 603302, 604032, 604643, 604505, 604147, 604328, 604831, 604929, 604042, 605150, 572444, 605180, 605340, 605526, 605405, 605700, 605660, 605663, 606852, 605800, 606162, 605923, 606434, 606321, 606500, 606446, 605730, 606840, 606853, 606700, 608614, 606936, 607169, 607538, 607878, 607881, 607784, 607105, 607898, 607951, 607954, 606867, 608172, 608436, 608133, 608523, 608128, 608972, 608585, 612580, 609139, 609384, 609785, 609583, 610072, 609969, 609978, 609358, 610112, 610313, 610128, 610435, 610403, 610531, 610456, 610540, 610103, 610594, 610630, 610722, 609054, 610988, 611006, 611117, 611029, 610934, 611502, 611551, 611388, 611206, 610758, 612306, 612357, 612391, 612428, 612288, 611817, 605238, 612725, 612760, 613134, 612998, 613413, 613284, 613227, 613304, 614844, 613591, 613789, 613786, 613878, 613833, 614554, 614176, 613588, 614748, 615017, 614643, 615030, 612775, 615043, 615042, 615284, 615318, 615044, 615436, 615399, 615737, 615983, 615743, 616217, 615808, 615167, 616242, 616464, 616608, 616311, 616417, 616681, 612629, 616838, 616968, 617155, 617676, 617439, 617629, 616779, 617933, 617943, 618110, 618387, 618487, 618088, 617845, 618558, 618563, 618538, 616695, 618575, 619052, 619032, 618647, 619193, 619240, 619109, 618749, 619474, 619483, 619505, 618627, 619778, 620091, 619757, 620260, 619532, 620448, 620294, 620488, 605224, 621061, 621068, 621149, 621077, 621802, 621521, 621740, 621332, 621246, 622573, 621978, 621986, 622012, 621874, 622156, 621842, 622600, 622797, 622521, 624831, 623201, 623363, 623768, 623981, 623999, 623020, 624148, 622851, 624182, 624453, 624374, 624249, 624283, 624602, 624699, 624226, 624871, 624858, 620905, 625402, 625434, 625450, 625603, 625519, 625586, 625193, 625818, 626030, 626275, 626307, 626368, 626239, 625615, 626392, 626458, 626377, 625078, 626579, 626916, 626686, 626664, 626952, 626987, 626919, 626685, 627176, 627477, 627600, 626645, 627991, 628006, 627713, 628016, 627617, 628167, 628037, 620812, 628195, 628708, 629072, 629101, 629107, 629081, 629123, 629179, 629154, 629768, 629209, 629275, 629281, 629241, 629496, 629586, 629217, 628379, 629960, 630041, 630271, 630520, 630382, 630220, 630534, 630933, 630743, 629919, 630984, 631305, 631251, 631277, 631459, 631414, 631170, 631532, 631614, 631523, 631514, 628200, 631996, 632033, 632237, 632041, 632616, 632459, 632592, 632296, 632289, 631730, 632913, 632637, 633156, 633435, 633401, 633556, 633309, 633173, 633607, 631635, 633807, 633828, 633977, 633898, 633633, 634370, 634462, 634297, 634124, 633624, 634772, 634880, 634915, 634927, 634726, 634467, 506531, 635372, 635778, 635873, 635784, 636048, 635920, 635928, 637217, 636276, 636343, 636339, 636640, 636358, 636756, 636678, 636138, 637058, 637219, 636826, 637529, 639086, 637574, 637591, 637851, 637818, 637571, 638022, 637909, 638052, 638274, 638153, 637539, 638797, 638854, 638702, 638969, 638687, 639112, 639290, 639021, 642107, 639503, 639686, 639711, 639846, 639764, 639844, 639441, 640130, 640179, 640449, 640485, 640550, 640365, 639929, 641121, 641162, 640618, 639318, 641283, 641409, 641397, 641322, 641434, 641496, 641427, 641327, 641684, 641704, 641724, 641297, 641913, 641923, 641867, 642038, 641765, 642292, 642294, 642106, 649961, 642593, 642709, 642895, 642756, 643254, 642993, 643015, 642903, 642896, 644238, 643801, 643817, 643901, 643342, 644116, 643297, 644363, 644621, 644237, 642467, 644847, 644928, 644996, 645024, 645038, 644723, 645050, 644679, 645387, 645625, 645583, 645505, 645574, 645875, 645967, 645493, 645997, 642390, 646055, 646479, 646382, 646222, 647280, 646514, 646485, 646766, 646250, 647471, 647625, 647571, 647737, 647640, 647803, 647776, 648219, 647357, 648423, 648508, 648527, 646154, 648924, 649059, 649175, 649434, 649455, 648895, 649550, 648771, 649617, 649873, 649835, 649797, 649810, 649915, 649935, 649662, 649987, 663820, 650058, 650067, 650262, 650132, 650772, 650625, 650740, 650417, 650289, 651667, 651215, 651254, 651347, 651067, 651451, 651003, 651892, 651902, 651460, 653559, 652225, 652331, 652357, 652420, 652600, 652206, 652663, 652142, 652677, 653163, 653110, 652884, 653057, 653294, 653309, 652844, 653829, 653809, 650048, 654268, 654518, 654527, 654807, 654644, 654712, 654177, 655007, 655246, 655300, 655355, 655571, 655258, 654843, 655690, 655800, 655594, 653932, 655854, 656065, 656026, 655867, 656212, 656240, 656181, 655899, 656267, 656286, 656454, 655865, 656740, 656745, 656687, 656755, 656634, 656787, 656772, 650027, 656791, 657401, 657154, 657524, 657498, 657626, 657554, 657667, 657574, 657678, 658535, 657680, 657802, 657806, 657801, 657978, 657761, 658577, 658607, 658427, 657368, 658750, 658642, 659225, 659360, 659158, 659711, 659390, 659763, 659861, 659818, 659899, 659826, 659175, 659949, 660090, 660115, 659961, 660001, 660285, 656847, 660425, 660468, 660550, 660774, 660640, 660643, 660424, 660954, 661005, 661233, 661284, 661386, 661065, 660838, 661595, 662020, 661589, 660401, 662124, 662469, 662336, 662213, 662684, 662851, 662600, 662245, 662963, 663107, 663358, 662132, 663498, 663673, 663442, 663702, 663432, 663946, 663801, 635514, 664273, 664423, 664460, 664443, 664866, 664810, 664848, 664785, 664636, 665897, 665407, 665536, 665555, 665268, 665607, 664993, 665915, 666131, 665738, 667481, 666499, 666507, 666731, 666799, 667037, 666395, 667121, 666184, 667151, 667361, 667250, 667191, 667228, 667378, 667441, 667161, 667737, 667662, 670408, 668223, 668283, 668322, 668287, 668600, 668445, 668535, 668441, 668427, 668069, 668755, 668750, 668781, 669263, 669239, 669265, 669111, 668978, 669307, 667952, 669469, 669566, 669663, 669575, 669463, 669799, 669888, 669751, 669728, 669377, 669978, 670225, 670241, 670301, 669956, 669933, 664266, 670672, 670759, 671045, 671043, 671264, 671154, 671058, 671192, 672382, 671653, 671959, 671689, 672072, 672060, 672270, 672143, 671443, 672370, 672437, 672296, 672455, 670855, 672495, 672467, 672639, 672878, 672520, 672911, 672893, 672918, 673114, 672926, 673218, 673070, 672593, 673271, 673555, 673594, 673279, 673483, 673668, 670633, 673932, 673997, 674006, 674477, 674291, 674400, 673717, 674663, 674687, 674809, 674947, 675005, 674764, 674588, 675372, 675379, 675082, 673678, 675406, 675918, 675808, 675440, 676157, 676234, 676150, 675521, 676364, 676480, 676517, 675430, 677019, 677045, 677001, 677079, 676552, 677127, 677098, 663958, 677155, 677318, 677456, 677390, 677574, 677466, 677542, 678497, 677661, 677872, 677669, 678130, 677931, 678295, 678215, 677650, 678428, 678504, 678406, 678576, 680124, 678770, 678777, 678806, 678824, 678953, 678761, 678960, 678643, 679061, 679622, 679610, 679179, 679581, 679897, 680046, 679164, 680259, 680179, 677299, 680708, 680783, 681107, 681783, 681589, 681592, 680392, 681892, 681893, 681990, 682022, 682028, 681939, 681813, 682217, 682244, 682114, 680284, 682372, 682969, 682718, 682620, 683114, 683154, 683000, 682699, 683155, 683169, 683205, 682445, 683535, 683579, 683336, 683841, 683247, 683968, 683846, 677296, 684011, 684137, 684398, 684148, 684431, 684410, 684429, 685220, 684643, 684777, 684761, 684784, 684782, 685007, 684813, 685133, 684552, 685272, 685236, 684068, 685509, 685640, 685789, 685853, 685921, 685488, 686153, 685438, 686265, 686793, 686725, 686430, 686684, 687014, 687016, 686274, 687352, 684016, 687466, 687770, 687720, 687509, 688107, 687892, 687816, 687899, 687618, 688569, 688618, 688575, 689067, 688770, 689356, 689093, 689480, 688339, 689490, 689591, 689631, 687479, 689723, 689825, 689879, 689919, 690162, 689672, 690303, 689670, 690425, 691071, 691034, 690818, 690821, 691470, 691572, 690595, 691624, 635278, 691708, 691781, 691889, 691816, 693010, 692044, 692741, 693939, 693130, 693564, 693472, 693667, 693589, 693771, 693738, 693033, 693779, 693948, 693778, 693963, 695435, 694409, 694475, 694629, 694639, 694674, 694263, 694728, 694143, 694777, 695347, 695202, 695009, 695186, 695408, 695419, 694833, 695607, 695510, 698883, 695878, 696049, 696250, 696570, 696442, 696540, 695720, 697012, 697070, 697534, 697556, 697592, 697467, 696619, 697604, 697634, 697596, 695666, 697751, 698043, 698029, 697864, 698124, 698181, 698093, 697955, 698202, 698205, 698293, 697753, 698427, 698479, 698350, 698728, 698349, 698909, 698938, 698788, 706003, 699158, 699277, 699494, 699311, 699714, 699649, 699652, 699612, 699611, 700889, 700150, 700247, 700355, 699956, 700406, 699933, 700907, 700937, 700480, 699120, 701208, 701239, 701260, 701278, 701302, 701192, 701412, 701020, 701545, 701974, 701896, 701709, 701794, 701988, 702006, 701575, 702056, 699117, 702205, 702970, 702641, 702624, 703548, 703208, 703157, 703294, 702640, 703893, 704044, 703991, 704290, 704187, 704426, 704376, 704493, 703818, 704571, 704589, 704602, 702234, 704719, 704891, 704967, 705018, 705164, 704706, 705258, 704660, 705265, 705814, 705674, 705487, 705591, 705913, 705966, 705384, 706015, 691753, 706059, 706134, 706425, 706350, 707008, 706669, 706910, 706549, 706544, 708091, 707378, 707518, 707816, 707111, 707954, 707041, 708148, 708183, 708020, 709488, 708333, 708347, 708403, 708513, 708688, 708325, 708796, 708285, 708811, 709177, 709127, 708912, 709061, 709257, 709360, 708910, 709687, 709640, 706052, 710014, 710019, 710351, 710708, 710368, 710480, 709997, 710809, 710992, 711023, 711028, 711043, 710996, 710762, 711078, 711141, 711051, 709818, 711240, 711859, 711788, 711559, 712214, 712316, 711944, 711670, 712340, 712468, 712475, 711522, 712548, 712637, 712492, 712676, 712483, 712738, 712687, 706035, 712771, 713366, 713160, 713511, 713386, 713678, 713564, 713710, 713627, 714289, 714976, 714316, 714789, 714827, 714595, 714932, 714557, 715211, 715291, 714974, 713333, 715366, 715349, 715611, 715671, 715374, 715736, 715703, 715777, 716161, 716025, 716213, 716071, 715520, 716278, 716709, 716769, 716445, 716464, 716781, 713132, 717152, 717165, 717207, 717463, 717248, 717273, 716929, 717593, 717686, 717897, 717944, 717991, 717895, 717526, 718125, 718371, 718034, 716825, 718397, 718556, 718548, 718501, 718900, 718934, 718633, 718526, 719240, 719258, 719478, 718440, 719588, 719612, 719510, 719651, 719493, 719709, 719685, 691731, 719767, 719845, 720036, 719937, 720286, 720055, 720246, 721183, 720651, 720946, 720874, 721048, 720949, 721113, 721111, 720632, 721164, 721317, 721149, 721415, 722548, 721667, 721762, 721810, 721851, 721964, 721577, 721996, 721568, 722033, 722458, 722457, 722253, 722331, 722511, 722517, 722044, 722846, 722579, 726181, 723059, 723061, 723266, 723398, 723270, 723334, 722949, 723454, 723492, 723636, 723683, 724091, 723629, 723420, 724485, 724507, 724360, 722891, 724512, 724943, 724767, 724587, 724968, 724974, 724956, 724702, 724988, 725423, 725445, 724520, 725706, 725787, 725602, 726147, 725507, 726188, 726296, 726180, 719830, 726481, 726559, 726578, 726900, 726667, 726670, 727789, 727103, 727239, 727217, 727259, 727258, 727566, 727359, 727656, 726995, 728128, 727869, 726356, 728565, 728900, 728931, 728963, 728983, 728523, 729207, 728433, 729223, 729620, 729492, 729351, 729381, 729690, 729732, 729247, 729756, 726308, 729787, 730279, 730046, 729883, 730793, 730500, 730435, 730552, 729890, 730850, 731054, 731029, 731142, 731119, 731323, 731193, 731330, 730796, 731803, 731813, 731838, 729824, 732082, 732096, 732409, 732649, 732777, 731936, 732933, 731927, 733287, 733671, 733581, 733390, 733467, 734103, 734285, 733311, 734320, 719811, 734358, 734659, 734878, 734842, 735176, 735086, 735146, 736302, 735320, 735399, 735331, 735513, 735462, 735836, 735699, 735214, 736095, 736412, 735840, 736532, 738448, 736799, 736947, 737094, 737124, 737197, 736648, 737344, 736576, 737479, 738118, 737870, 737636, 737730, 738203, 738224, 737590, 738484, 738470, 734629, 738957, 739145, 739265, 739814, 739324, 739453, 738716, 740286, 740466, 740508, 740678, 740777, 740485, 740249, 740950, 740972, 740786, 738569, 741154, 741486, 741483, 741236, 741671, 741675, 741566, 741278, 741886, 741891, 742297, 741197, 742504, 742671, 742492, 742817, 742301, 742962, 742959, 734451, 742981, 743261, 743305, 743275, 743523, 743381, 743478, 744244, 743694, 743815, 743802, 743958, 743895, 744143, 744065, 744234, 743602, 744478, 744344, 743233, 744747, 744754, 744964, 744983, 745051, 744710, 745070, 744492, 745146, 745348, 745295, 745194, 745285, 745667, 745671, 745152, 745825, 743020, 746233, 746884, 746585, 746482, 747240, 747102, 746923, 747138, 746514, 747269, 747364, 747276, 747422, 747397, 747486, 747444, 747492, 747266, 747650, 747684, 747759, 746238, 747871, 747878, 748013, 748179, 748208, 747853, 748209, 747844, 748525, 749084, 749044, 748623, 749018, 749146, 749157, 748539, 749187, 749291, 506522, 749463, 749672, 750181, 750160, 750276, 750264, 750274, 751772, 750643, 751086, 750726, 751392, 751140, 751622, 751616, 750582, 751763, 751869, 751644, 752011, 754022, 752147, 752177, 752389, 752265, 752060, 752549, 752428, 752635, 752777, 752671, 752041, 753436, 753785, 753351, 753802, 752832, 754069, 754104, 753916, 758325, 754473, 754573, 754711, 755024, 754885, 754911, 754433, 755086, 755211, 755337, 755384, 755508, 755336, 755080, 755941, 755977, 755919, 754130, 756032, 756538, 756494, 756436, 757017, 757216, 756702, 756449, 757259, 757338, 757345, 756286, 757578, 757655, 757379, 757945, 757378, 758458, 758580, 757995, 765389, 758892, 758915, 758989, 758968, 759551, 759316, 759481, 759308, 759150, 760838, 759981, 760066, 760401, 759951, 760659, 759667, 760953, 760963, 760787, 758888, 761311, 761474, 761531, 761681, 761703, 761297, 761713, 761235, 761797, 762109, 762064, 761958, 762049, 762179, 762328, 761866, 762422, 758884, 762518, 763069, 763049, 762587, 763185, 763132, 763100, 763146, 762764, 763275, 763581, 763543, 763639, 763636, 763781, 763653, 764002, 763242, 764072, 764077, 764199, 762558, 764662, 764734, 764742, 764896, 764952, 764647, 764964, 764491, 765018, 765167, 765143, 765050, 765127, 765245, 765366, 765036, 765548, 778525, 765679, 765692, 765848, 765734, 766313, 766078, 766174, 766033, 765857, 766589, 766395, 766399, 766411, 766394, 766412, 766383, 766623, 766629, 766513, 768358, 767237, 767359, 767375, 767395, 767472, 767162, 767729, 766673, 767760, 767969, 767831, 767802, 767829, 768151, 768230, 767780, 768479, 768478, 765616, 768815, 768835, 768847, 769013, 768861, 768902, 768670, 769068, 769118, 769368, 769737, 769789, 769313, 769048, 769869, 769934, 769840, 768487, 770070, 770541, 770501, 770269, 770621, 770733, 770565, 770442, 770803, 770834, 770923, 770240, 771001, 771024, 770977, 771205, 770962, 771231, 771228, 765601, 771371, 771577, 771416, 771759, 771606, 771893, 771791, 772037, 771877, 772229, 772633, 772322, 772487, 772497, 772454, 772621, 772323, 772654, 772921, 772624, 771445, 773106, 772972, 773557, 773614, 773164, 773718, 773615, 773781, 774166, 774047, 774266, 774092, 773199, 774275, 774609, 774676, 774329, 774432, 774734, 771377, 774927, 775002, 775026, 775415, 775043, 775310, 774909, 775804, 775861, 776105, 776294, 776367, 775955, 775517, 776683, 776688, 776452, 774829, 776737, 777466, 777420, 776937, 777616, 777625, 777554, 777084, 777680, 777885, 777926, 776928, 778363, 778371, 778266, 778504, 778179, 778605, 778512, 809752, 778732, 779138, 779428, 779173, 779706, 779605, 779695, 779580, 779523, 780120, 779881, 779998, 780003, 779861, 780005, 779837, 780152, 780181, 780025, 781919, 780421, 780432, 780661, 780687, 780826, 780308, 780856, 780298, 780964, 781392, 781348, 781248, 781250, 781693, 781876, 780969, 782299, 782027, 785922, 782379, 782383, 782475, 782389, 783279, 783043, 783160, 782678, 782617, 782373, 783459, 783293, 783670, 784136, 783984, 784270, 783953, 783717, 784351, 782348, 784526, 784740, 784926, 784848, 784470, 785154, 785199, 785120, 785085, 784390, 785435, 785583, 785675, 785735, 785312, 785272, 778629, 786067, 786198, 786615, 786375, 786878, 786736, 786729, 786822, 788197, 787139, 787348, 787179, 787395, 787377, 787686, 787617, 787101, 788047, 788789, 787701, 788937, 786205, 789120, 789086, 789225, 789237, 789134, 789457, 789290, 789597, 790136, 789615, 790314, 790033, 789188, 790376, 790497, 790721, 790397, 790439, 790726, 785924, 790965, 790989, 791001, 791408, 791288, 791363, 790932, 791783, 791823, 792243, 792433, 792762, 791921, 791596, 792863, 792895, 792831, 790853, 793139, 793626, 793531, 793332, 793885, 793905, 793697, 793334, 794027, 794071, 794172, 793291, 794374, 794426, 794259, 794571, 794188, 794739, 794582, 778607, 795003, 795256, 795272, 795264, 795564, 795381, 795542, 796508, 795844, 796135, 795851, 796151, 796137, 796285, 796256, 795819, 796442, 796514, 796316, 796623, 798031, 796691, 796875, 797069, 797209, 797210, 796689, 797338, 796628, 797400, 797809, 797765, 797422, 797748, 797936, 797948, 797414, 798259, 798147, 795172, 798492, 798609, 798721, 799281, 799095, 799278, 798445, 799401, 799578, 799626, 799720, 799827, 799620, 799344, 799887, 799972, 799838, 798282, 800042, 800587, 800539, 800523, 800775, 800834, 800687, 800536, 800889, 801175, 801286, 800081, 801524, 801544, 801507, 801655, 801451, 801688, 801662, 795107, 801917, 802293, 802442, 802402, 802901, 802450, 802593, 804202, 803143, 803342, 803284, 803717, 803412, 803784, 803722, 804117, 802902, 804299, 804213, 802165, 804600, 804732, 804753, 804817, 805030, 804447, 805036, 804304, 805127, 805384, 805325, 805194, 805257, 805462, 805474, 805134, 805478, 801921, 805807, 806371, 806206, 806131, 806926, 806727, 806382, 806868, 806185, 807063, 807169, 807090, 807447, 807322, 807637, 807579, 807677, 807034, 807681, 807714, 807779, 806062, 807843, 807869, 808103, 808167, 808241, 807819, 808321, 807800, 808724, 809309, 809287, 809229, 809249, 809364, 809569, 809014, 809814, 749557, 810535, 810553, 810607, 810839, 810721, 810826, 812599, 811074, 811319, 811156, 811422, 811400, 812039, 811458, 810922, 812130, 812661, 812112, 814894, 812866, 813407, 813707, 814022, 814057, 813738, 813081, 814091, 814129, 814171, 812664, 814257, 814515, 814851, 814880, 814248, 814203, 818695, 815298, 815309, 815399, 815380, 815880, 815701, 815608, 815782, 815358, 816105, 816231, 816225, 816476, 816458, 816553, 816502, 816594, 816008, 816640, 816782, 816830, 815198, 817022, 817088, 817231, 817241, 817308, 817013, 817525, 816870, 817568, 818214, 818165, 817875, 818072, 818226, 818318, 817616, 819002, 818932, 827237, 819310, 819575, 819635, 819748, 819646, 819742, 821202, 820064, 820065, 820098, 820313, 820581, 820088, 819867, 820848, 821159, 820976, 819281, 821559, 821580, 821601, 821642, 821614, 821599, 821844, 821941, 821887, 821490, 821996, 822436, 822109, 822361, 822910, 822731, 822078, 823165, 823222, 822970, 822915, 819011, 823706, 823717, 823803, 823792, 824859, 824182, 824837, 824107, 823869, 823510, 824938, 824874, 825086, 825595, 825410, 825653, 825406, 825113, 825759, 823418, 825859, 825937, 826389, 826303, 825853, 826661, 826688, 826610, 826423, 825842, 826841, 827069, 827070, 827231, 826781, 826721, 810196, 827533, 827886, 828322, 827929, 828430, 828345, 828390, 829268, 828629, 828857, 828733, 828933, 828902, 829041, 828999, 828462, 829259, 829316, 829096, 830959, 829458, 829911, 829960, 830200, 830251, 830111, 829508, 830338, 830413, 830584, 829349, 830742, 830814, 830823, 830861, 830677, 830615, 827592, 831059, 831067, 831204, 831461, 831229, 831657, 831512, 831661, 831619, 831958, 831173, 831998, 832717, 832736, 832586, 832794, 832817, 832458, 832833, 831043, 832873, 833378, 833159, 833446, 833419, 833231, 833474, 833550, 833525, 833026, 833634, 834183, 834091, 834145, 834304, 834208, 833904, 834482, 834517, 834471, 834316, 827278, 834898, 835021, 835051, 835304, 835138, 835176, 836449, 835474, 835599, 835510, 835642, 835635, 836119, 835742, 836201, 835360, 836517, 836481, 834818, 836973, 836981, 837286, 837554, 837588, 836917, 837616, 836575, 837642, 838234, 837915, 837862, 837907, 838262, 838301, 837785, 838337, 834581, 838391, 839085, 838882, 838678, 839348, 839220, 839185, 839231, 838797, 839544, 839666, 839646, 839840, 839776, 840023, 839869, 840273, 839383, 840560, 840796, 840808, 838430, 841575, 841815, 841905, 841912, 842196, 841560, 842224, 841362, 842260, 842676, 842673, 842575, 842616, 842732, 842880, 842378, 842927, 809854, 842965, 843142, 843339, 843314, 843705, 843362, 843419, 845115, 843887, 844008, 843892, 844248, 844245, 844741, 844510, 843707, 844980, 845182, 844939, 845365, 847267, 845609, 845683, 845855, 845887, 846025, 845520, 846528, 845382, 846585, 847064, 847005, 846728, 846833, 847127, 847146, 846594, 847334, 847327, 851034, 847878, 847909, 847974, 848346, 848246, 848340, 847773, 848591, 848636, 848916, 848926, 848955, 848737, 848516, 849145, 849224, 849112, 847724, 849273, 850109, 849797, 849666, 850301, 850308, 850288, 849741, 850366, 850534, 850543, 849529, 850848, 850983, 850784, 851007, 850755, 851053, 851111, 851026, 843065, 851539, 851585, 851733, 852351, 851978, 852159, 853204, 852391, 852534, 852431, 852716, 852554, 853009, 852967, 853177, 852387, 853328, 853242, 851410, 853539, 853567, 853976, 854010, 854575, 853381, 854692, 853350, 854824, 855788, 855709, 855372, 855520, 856253, 856282, 854867, 856294, 851181, 856709, 856919, 856826, 856794, 857754, 857366, 857219, 857658, 856803, 858404, 858475, 858406, 858531, 858514, 858815, 858734, 858991, 858347, 859048, 859098, 859106, 856740, 859505, 859614, 859656, 859680, 859969, 859369, 860098, 859300, 860157, 860511, 860378, 860269, 860327, 860829, 860934, 860226, 861052, 843021, 861094, 861152, 861236, 861229, 861866, 861279, 861582, 862619, 861998, 862035, 861999, 862152, 862056, 862373, 862362, 861955, 862557, 862672, 862399, 862878, 864104, 863017, 863035, 863064, 863247, 863298, 862992, 863537, 862946, 863549, 864019, 864016, 863864, 863887, 864026, 864096, 863739, 864378, 864308, 861112, 864509, 864851, 864996, 865388, 865241, 865304, 864483, 865540, 865643, 865809, 865888, 865993, 865804, 865453, 866220, 866225, 866129, 864411, 866429, 867035, 866993, 866761, 867961, 867993, 867567, 866975, 868004, 868355, 868505, 866586, 868923, 869018, 868768, 869073, 868596, 869172, 869098, 861108, 869213, 869433, 869815, 869656, 870481, 870205, 870343, 871346, 870582, 870703, 870690, 870929, 870806, 871041, 870995, 871101, 870529, 871426, 871419, 869261, 871515, 871536, 871865, 872095, 872203, 871476, 872362, 871432, 872506, 873123, 872785, 872683, 872713, 873221, 873256, 872552, 873260, 869245, 873277, 873768, 873658, 873442, 874217, 873981, 873911, 874162, 873583, 874442, 874548, 874493, 874581, 874578, 874879, 874678, 875214, 874317, 875423, 875445, 875473, 873413, 875997, 876097, 876106, 876305, 876320, 875839, 876505, 875494, 876939, 877155, 877124, 876979, 877041, 877235, 877251, 876956, 877379, 999886, 877464, 877663, 877970, 877705, 878304, 878143, 878199, 879391, 878381, 878444, 878443, 878712, 878467, 878868, 878811, 878376, 879358, 879407, 878922, 879561, 881441, 879793, 880056, 880148, 880169, 880190, 879655, 880302, 879587, 880345, 881054, 880952, 880568, 880614, 881105, 881341, 880403, 881496, 881485, 884204, 881849, 881862, 882035, 882269, 882049, 882151, 881678, 882450, 882578, 882604, 882605, 882645, 882587, 882358, 882660, 882782, 882653, 881527, 882816, 883248, 883220, 883012, 883368, 883375, 883337, 883152, 883495, 883523, 883612, 882987, 883889, 883893, 883781, 884134, 883720, 884708, 884754, 884200, 893873, 885095, 885391, 885912, 885567, 886838, 886249, 886790, 886217, 886123, 887453, 887098, 887184, 887297, 887094, 887364, 887026, 887537, 887776, 887382, 885006, 888240, 888451, 888534, 888576, 888721, 888114, 888792, 887839, 888842, 889170, 889159, 888957, 888975, 889206, 889236, 888847, 889324, 884787, 889623, 890171, 890132, 890001, 890492, 890405, 890175, 890475, 890065, 890664, 890733, 890676, 890953, 890776, 891457, 891103, 891487, 890588, 891538, 891808, 891878, 889733, 892185, 892190, 892413, 892500, 892566, 892085, 892642, 892068, 892687, 893300, 893206, 893099, 893106, 893689, 893850, 892860, 893875, 909680, 894465, 894597, 894661, 894645, 895273, 894962, 895066, 894782, 894667, 896165, 895571, 895663, 895773, 895499, 895925, 895330, 896353, 896420, 896014, 897933, 896905, 896991, 897042, 897046, 897055, 896566, 897237, 896433, 897302, 897747, 897678, 897433, 897636, 897797, 897847, 897372, 898126, 898087, 894098, 898261, 898335, 898337, 898488, 898395, 898437, 898187, 898789, 898841, 899495, 899669, 899762, 899479, 898617, 900492, 900754, 900295, 898147, 900819, 902107, 902042, 901487, 902233, 902273, 902132, 901777, 902369, 902400, 902555, 901415, 902623, 902630, 902611, 902869, 902600, 903181, 903105, 894070, 903196, 903767, 903314, 903883, 903836, 904034, 903993, 904092, 904002, 904154, 904827, 904173, 904429, 904772, 904226, 904784, 904206, 904980, 904985, 904804, 903670, 905122, 904998, 905512, 905653, 905425, 905837, 905789, 905853, 906082, 905917, 906110, 905975, 905470, 906237, 906508, 906537, 906266, 906406, 906557, 903264, 906884, 906948, 907028, 907449, 907092, 907198, 906851, 907638, 907731, 907884, 908077, 908089, 907876, 907628, 908377, 908381, 908271, 906717, 908434, 908710, 908538, 908473, 908860, 908988, 908773, 908502, 909077, 909189, 909242, 908456, 909531, 909663, 909428, 909664, 909260, 909843, 909672, 877550, 910312, 910421, 910746, 910666, 911022, 910918, 910983, 910830, 910769, 911719, 911351, 911358, 911509, 911306, 911570, 911261, 911791, 911809, 911633, 913584, 912319, 912844, 912855, 912895, 912913, 912175, 912967, 911907, 913004, 913418, 913320, 913025, 913206, 913429, 913579, 913015, 913648, 913608, 917009, 914027, 914029, 914076, 914069, 914800, 914534, 914745, 914244, 914210, 913943, 914939, 914865, 914962, 915519, 915452, 915775, 915313, 915277, 915835, 913903, 916200, 916233, 916258, 916242, 915971, 916479, 916557, 916372, 916300, 915916, 916688, 916810, 916944, 916979, 916661, 916598, 910078, 917223, 917268, 917445, 917311, 918112, 917692, 917461, 917955, 919065, 918387, 918749, 918619, 918891, 918809, 918986, 918952, 918374, 919028, 919115, 919004, 919645, 917296, 920185, 919894, 920372, 920420, 920202, 920476, 920423, 920556, 921001, 920765, 921037, 920778, 920220, 921070, 921229, 921471, 921160, 921192, 921737, 917156, 922016, 922249, 922272, 922796, 922673, 922711, 921801, 922859, 923044, 923110, 923120, 923427, 923067, 922799, 923544, 923554, 923489, 921763, 923640, 923979, 923924, 923779, 924228, 924351, 924203, 923813, 924444, 924471, 924496, 923736, 924585, 924649, 924569, 924736, 924506, 924921, 924909, 909880, 924925, 925253, 925318, 925258, 925696, 925374, 925575, 926891, 926011, 926179, 926154, 926301, 926185, 926471, 926315, 925834, 926576, 927165, 926526, 927185, 928675, 927623, 927790, 927811, 928001, 928036, 927449, 928077, 927330, 928111, 928480, 928443, 928267, 928422, 928556, 928589, 928156, 928955, 928748, 925088, 929199, 929297, 929342, 929889, 929455, 929862, 929165, 930103, 930131, 930223, 930224, 930479, 930142, 929890, 930548, 930628, 930502, 929033, 930700, 931038, 931032, 930829, 931175, 931191, 931146, 930966, 931352, 931372, 931393, 930807, 931556, 931564, 931536, 931677, 931452, 931719, 931711, 925085, 931873, 931999, 932205, 932005, 932498, 932391, 932434, 933442, 932625, 932648, 932644, 932692, 932673, 933205, 933169, 933321, 932606, 933711, 933691, 931955, 933765, 933845, 934008, 934024, 934135, 933750, 934190, 933735, 934212, 934800, 934487, 934386, 934439, 934879, 934940, 934253, 934972, 931908, 935042, 935569, 935525, 935397, 935942, 935717, 935579, 935857, 935452, 936225, 936557, 936413, 936717, 936677, 936866, 936780, 936879, 935973, 937255, 937347, 937517, 935080, 937940, 937989, 938044, 938062, 938111, 937884, 938274, 937594, 938552, 938875, 938841, 938579, 938722, 938898, 938958, 938575, 938971, 877520, 939038, 939267, 939494, 939430, 939690, 939666, 939681, 940509, 939797, 940004, 939927, 940108, 940051, 940190, 940139, 939771, 940435, 940517, 940429, 940573, 942333, 940652, 940659, 940766, 940874, 940967, 940629, 941048, 940595, 941064, 941922, 941837, 941703, 941748, 941947, 942144, 941338, 942623, 942554, 946440, 943434, 943598, 943609, 943724, 943629, 943669, 943119, 943796, 943806, 944039, 944152, 944224, 943901, 943777, 944377, 944426, 944344, 942862, 944437, 945080, 944984, 944797, 945382, 945469, 945218, 944926, 945479, 945487, 945523, 944592, 945928, 946144, 945765, 946175, 945638, 946480, 946524, 946251, 952749, 946818, 946894, 946986, 947153, 946987, 947065, 947997, 947255, 947332, 947436, 947568, 947574, 947404, 947223, 947598, 947855, 947599, 946767, 948058, 948351, 948585, 948794, 948723, 948467, 948816, 948963, 948906, 948010, 948972, 949236, 949087, 949113, 949377, 949279, 949072, 949688, 949710, 949676, 949427, 946707, 950225, 950323, 950534, 950443, 950776, 950714, 950739, 950607, 950594, 950121, 950803, 950782, 950808, 950993, 950892, 951024, 950874, 950870, 951037, 949785, 951465, 951532, 951803, 951767, 951461, 951882, 951900, 951856, 951833, 951160, 952002, 952162, 952340, 952522, 951957, 951903, 939137, 952834, 952884, 952909, 952886, 953466, 953145, 953192, 954040, 953591, 953753, 953633, 953828, 953758, 953996, 953907, 953580, 954030, 954296, 954027, 954499, 956452, 955172, 955191, 955220, 955248, 955279, 954908, 955421, 954860, 955479, 956207, 955932, 955656, 955814, 956329, 956389, 955502, 957012, 956527, 952846, 957239, 957326, 957618, 957723, 957622, 957694, 957147, 957806, 957811, 957886, 957924, 958108, 957878, 957732, 958322, 958405, 958164, 957044, 958661, 959051, 958786, 958686, 959103, 959377, 959091, 958784, 959487, 959488, 959779, 958663, 960215, 960328, 959984, 960391, 959829, 960627, 960478, 952806, 960723, 960927, 960892, 961029, 960978, 961300, 961058, 961318, 961173, 961323, 961995, 961473, 961705, 961840, 961522, 961878, 961885, 961520, 962019, 960920, 962197, 962342, 962486, 962686, 963109, 962506, 962254, 963149, 963312, 963351, 962069, 963544, 963673, 963382, 963748, 963370, 964117, 964050, 960763, 964359, 964740, 964695, 964544, 965087, 964871, 964830, 964986, 964651, 965434, 965930, 965874, 966312, 966279, 966733, 966496, 966923, 965197, 967038, 967118, 967150, 964466, 967775, 967812, 967870, 967982, 968185, 967620, 968331, 967376, 968332, 968694, 968591, 968473, 968498, 968821, 968983, 968378, 969089, 969137, 939060, 969394, 969488, 969553, 969753, 969559, 969734, 971670, 970172, 970394, 970340, 970476, 970405, 970898, 970734, 969976, 971666, 971691, 971658, 972926, 971786, 971882, 971928, 972005, 972034, 971959, 971819, 972107, 972127, 972233, 971712, 972589, 972607, 972805, 972854, 972310, 972280, 976406, 973002, 973043, 973356, 973243, 973762, 973571, 973427, 973641, 973158, 973873, 974402, 974064, 974688, 974530, 975005, 974766, 975177, 973848, 975192, 975251, 975449, 972972, 975582, 975656, 975795, 975817, 975883, 975543, 975907, 975475, 975917, 976212, 976117, 975963, 976027, 976218, 976284, 975960, 976456, 976418, 969302, 976810, 977132, 977137, 977483, 977264, 977288, 978245, 977585, 978071, 977649, 978139, 978121, 978197, 978155, 978235, 977504, 979173, 978281, 976793, 979348, 979353, 979413, 979551, 979582, 979341, 979735, 979302, 979738, 980153, 979969, 979806, 979946, 980240, 980465, 979764, 980542, 976751, 980640, 980848, 980754, 980655, 981154, 980948, 980849, 981131, 980723, 981305, 981350, 981314, 981694, 981439, 981782, 981699, 981867, 981288, 981904, 982100, 982210, 980641, 982313, 982365, 982476, 982493, 982506, 982254, 982681, 982228, 983165, 983531, 983506, 983435, 983503, 983551, 983609, 983173, 983733, 969140, 984031, 984282, 984387, 984307, 984493, 984411, 984481, 985333, 984592, 984827, 984802, 984928, 984924, 985036, 984934, 984550, 985309, 985563, 985136, 985572, 987888, 985755, 986065, 986173, 986349, 986386, 985726, 986924, 985707, 986961, 987395, 987297, 987104, 987211, 987422, 987870, 987092, 988330, 988088, 984271, 988440, 988567, 988669, 988772, 988681, 988698, 988428, 988841, 988977, 989174, 989248, 989252, 989146, 988809, 989438, 989547, 989277, 988397, 989603, 990586, 990435, 989828, 991055, 991066, 990877, 990192, 991314, 991356, 991708, 989689, 992046, 992058, 991776, 992314, 991716, 992606, 992467, 984221, 992675, 993037, 993083, 993041, 993543, 993359, 993420, 994762, 993678, 993799, 993742, 993948, 993816, 994097, 993961, 994720, 993573, 994936, 994887, 992737, 995055, 995112, 995171, 995180, 995284, 995051, 995429, 994971, 995449, 995836, 995776, 995668, 995757, 995875, 995988, 995501, 996301, 992679, 996392, 996900, 996866, 996492, 997167, 996978, 996944, 997037, 996789, 997267, 997401, 997275, 997665, 997472, 997781, 997737, 997823, 997168, 997830, 997985, 998107, 996418, 998281, 998514, 998912, 998982, 998985, 998229, 999020, 998129, 999094, 999343, 999247, 999179, 999240, 999409, 999412, 999122, 999752]\n"
     ]
    }
   ],
   "source": [
    "# Test on long list.\n",
    "start_time = time.time()\n",
    "\n",
    "# Run our quicksort.\n",
    "quickSort(long_list,0, len(long_list)-1)\n",
    "\n",
    "# Print time to show runtime.\n",
    "print(\"--- %s seconds ---\" % (time.time() - start_time))\n",
    "print(quickSort(long_list,0, len(long_list)-1))"
   ]
  },
  {
   "cell_type": "markdown",
   "metadata": {},
   "source": [
    "Wow, the quickSort is still faster than the mergeSort and insertionSort. As the wiki article states, choice of pivot is key and perhaps for a future iteration of the algorithm, we may try to choose to implement the following pseudocode to optimize choice of pivot (Commented out below)."
   ]
  },
  {
   "cell_type": "code",
   "execution_count": 24,
   "metadata": {},
   "outputs": [],
   "source": [
    "# Median-of-three code snippet for Lomuto partition:\n",
    "\n",
    "# mid := (lo + hi) / 2\n",
    "# if A[mid] < A[lo]\n",
    "#     swap A[lo] with A[mid]\n",
    "# if A[hi] < A[lo]\n",
    "#     swap A[lo] with A[hi]\n",
    "# if A[mid] < A[hi]\n",
    "#     swap A[mid] with A[hi]\n",
    "# pivot := A[hi]"
   ]
  },
  {
   "cell_type": "code",
   "execution_count": null,
   "metadata": {},
   "outputs": [],
   "source": []
  }
 ],
 "metadata": {
  "hide_input": false,
  "kernelspec": {
   "display_name": "Python 3",
   "language": "python",
   "name": "python3"
  },
  "language_info": {
   "codemirror_mode": {
    "name": "ipython",
    "version": 3
   },
   "file_extension": ".py",
   "mimetype": "text/x-python",
   "name": "python",
   "nbconvert_exporter": "python",
   "pygments_lexer": "ipython3",
   "version": "3.6.4"
  }
 },
 "nbformat": 4,
 "nbformat_minor": 2
}
