{
 "cells": [
  {
   "cell_type": "markdown",
   "metadata": {},
   "source": [
    "Drill set 1\n",
    "Calculate the probability of flipping a balanced coin four times and getting each pattern: HTTH, HHHH and TTHH.\n",
    "**All are the same: 1/2 ** 4 = .0625\n",
    "\n",
    "If a list of people has 24 women and 21 men, then the probability of choosing a man from the list is 21/45. What is the probability of not choosing a man?\n",
    "**24/45\n",
    "\n",
    "The probability that Bernice will travel by plane sometime in the next year is 10%. The probability of a plane crash at any time is .005%. What is the probability that Bernice will be in a plane crash sometime in the next year?\n",
    "**.1 * .00005 = .000005 or .0005%\n",
    "\n",
    "A data scientist wants to study the behavior of users on the company website. Each time a user clicks on a link on the website, there is a 5% chance that the user will be asked to complete a short survey about their behavior on the website. The data scientist uses the survey data to conclude that, on average, users spend 15 minutes surfing the company website before moving on to other things. What is wrong with this conclusion?\n",
    "**There is a bias for getting self-reported answers from only a subset of the population, specifically those who happen to click on a link on the website. Thus, this group of users are not reflective of the total population of users surfing the company website. Furthermore, there is nothing mentioned as to whether a person who has already answered the survey will be asked to fill out the survey again. If he does, then there is an increase in repeat answers from some users, which also skews the results and the eventual average that is calculated.\n"
   ]
  },
  {
   "cell_type": "markdown",
   "metadata": {},
   "source": [
    "Drill set 2\n",
    "Now it's time to use Bayes' rule to compute some conditional probabilities. First look over the numbers and estimate each of the four probabilities, using your intuition. Then, calculate the probabilities using Bayes' rule. Keep track of your work in a Google document or markdown file that you can share with your mentor.\n",
    "\n",
    "A diagnostic test has a 98% probability of giving a positive result when applied to a person suffering from Thripshaw's Disease, and 10% probability of giving a (false) positive when applied to a non-sufferer. It is estimated that 0.5 % of the population are sufferers. Suppose that the test is now administered to a person whose disease status is unknown. Calculate the probability that the test will:\n",
    "\n",
    "Be positive\n",
    "Correctly diagnose a sufferer of Thripshaw's\n",
    "Correctly identify a non-sufferer of Thripshaw's\n",
    "Misclassify the person\n",
    "Were your intuitions on the mark, or way off? If your statistical intuition is leading you astray, you aren't alone. According to Nobel-prize winning Daniel Kahneman, humans simply are not good intuitive statisticians. That fact has two strong implications for you as you prepare for a career in data science:\n",
    "\n",
    "**Intuition Thoughts:\n",
    "Be positive  - 10%\n",
    "Correctly diagnose a sufferer of Thripshaw's - 98%\n",
    "Correctly identify a non-sufferer of Thripshaw's - 90%\n",
    "Misclassify the person - 12% ??**\n",
    "\n",
    "**According to Bayes: P(A | B) = P(B | A) * P(A) / [P(A)*P(B|A) + P(A~)*P(B|A~)]\n",
    "Be positive: .98*.005 + .1*.995 = .1044\n",
    "Correctly diagnose a sufferer of Thripshaw's: .98\n",
    "Correctly identify a non-sufferer of Thripshaw's: .9\n",
    "Misclassify the person: 1-(.98*.005 + .9*.995)= .0996**\n",
    "\n",
    "\n",
    "Just because your statistical intuition is wrong does not mean you're a bad statistician. We're all in this boat. Don't give up on yourself. And,\n",
    "Just because you easily intuit the answer to a statistical question does not mean you're right. Don't trust your intuition. Check your work.\n"
   ]
  },
  {
   "cell_type": "code",
   "execution_count": null,
   "metadata": {},
   "outputs": [],
   "source": []
  }
 ],
 "metadata": {
  "kernelspec": {
   "display_name": "Python 3",
   "language": "python",
   "name": "python3"
  },
  "language_info": {
   "codemirror_mode": {
    "name": "ipython",
    "version": 3
   },
   "file_extension": ".py",
   "mimetype": "text/x-python",
   "name": "python",
   "nbconvert_exporter": "python",
   "pygments_lexer": "ipython3",
   "version": "3.6.4"
  }
 },
 "nbformat": 4,
 "nbformat_minor": 2
}
