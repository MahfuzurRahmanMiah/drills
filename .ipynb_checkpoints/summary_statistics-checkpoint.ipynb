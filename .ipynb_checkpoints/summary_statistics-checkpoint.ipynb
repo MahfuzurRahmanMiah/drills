{
 "cells": [
  {
   "cell_type": "markdown",
   "metadata": {},
   "source": [
    "**Greg was 14, Marcia was 12, Peter was 11, Jan was 10, Bobby was 8, and Cindy was 6 when they started playing the Brady kids on The Brady Bunch. Cousin Oliver was 8 years old when he joined the show. What are the mean, median, and mode of the kids' ages when they first appeared on the show? What are the variance, standard deviation, and standard error?\n",
    "\n",
    "set_of_age: {14, 12, 11, 10, 8, 6, 8}\n",
    "ordered: 6,8,8,10,11,12,14\n",
    "mean: (6 + 8 + 8 + 10 + 11 + 12 + 14)/7 = 9.85\n",
    "median: 10\n",
    "mode:8\n",
    "v = sum((x - mean) ** 2) / (n - 1)\n",
    "sample variance: ((6-9.85)^2,(8-9.85)^2,(8-9.85)^2,(10-9.85)^2,(11-9.85)^2,(12-9.85)^2,(14-9.85)^2)/6 = 7.476 \n",
    "population variance: ((6-9.85)^2,(8-9.85)^2,(8-9.85)^2,(10-9.85)^2,(11-9.85)^2,(12-9.85)^2,(14-9.85)^2)/7  = 6.408\n",
    "std dev: s = v ** 0.5  \n",
    "7.476 ** .5 = 2.73\n",
    "6.408 ** .5 = 2.53\n",
    "std error: 2.73/(7^.5) = 1.03\n"
   ]
  },
  {
   "cell_type": "code",
   "execution_count": 6,
   "metadata": {},
   "outputs": [
    {
     "name": "stdout",
     "output_type": "stream",
     "text": [
      "mean is  9.857142857142858\n",
      "median is  10.0\n",
      "mode is  8\n",
      "variance is  6.408163265306122\n",
      "std. deviation of population is  2.531435020952764\n",
      "standard error is  1.0334540197243194\n"
     ]
    }
   ],
   "source": [
    "import numpy as np\n",
    "ages = [14,12,11,10,8,6,8]\n",
    "\n",
    "def get_stats(ages):\n",
    "    print(\"mean is \",np.mean(ages))\n",
    "    print(\"median is \",np.median(ages))\n",
    "    (values, counts) = np.unique(ages, return_counts=True)\n",
    "    # The location in the values list of the most-frequently-occurring element.\n",
    "    ind = np.argmax(counts)\n",
    "    # The most frequent element.\n",
    "    print(\"mode is \",values[ind])\n",
    "    print(\"variance is \",np.var(ages))\n",
    "    print(\"std. deviation of population is \",np.std(ages))\n",
    "    print(\"standard error is \",np.std(ages)/np.sqrt(len(ages)-1))\n",
    "    \n",
    "get_stats(ages)"
   ]
  },
  {
   "cell_type": "markdown",
   "metadata": {},
   "source": [
    "**Using these estimates, if you had to choose only one estimate of central tendency and one estimate of variance to describe the data, which would you pick and why?\n",
    "\n",
    "The mean and median are pretty similar in this case so working with the mean, which takes into account all the ages in the set. I would pick standard deviation to talk about the variance of the data because it reflects the spread of the data around the mean which in this case is pretty tight, hovering around 2.73."
   ]
  },
  {
   "cell_type": "markdown",
   "metadata": {},
   "source": [
    "**Next, Cindy has a birthday. Update your estimates- what changed, and what didn't?\n",
    "\n",
    "set_of_age: {14, 12, 11, 10, 8, 7, 8}\n",
    "ordered: 7,8,8,10,11,12,14\n",
    "mean: (7 + 8 + 8 + 10 + 11 + 12 + 14)/7 = 10\n",
    "median: 10\n",
    "mode:8\n",
    "v = sum((x - mean) ** 2) / (n - 1)\n",
    "sample variance: ((7-10)^2 + (8-10)^2 + (8-10)^2 + (10-10)^2 + (11-10)^2 + (12-10)^2 + (14-10)^2)/7 = 6.33\n",
    "population variance: ((7-10)^2 + (8-10)^2 + (8-10)^2 + (10-10)^2 + (11-10)^2 + (12-10)^2 + (14-10)^2)/7 = 5.42\n",
    "std dev: s = v ** 0.5  \n",
    "6.33 ** .5 = 2.51\n",
    "5.42 ** .5 = 2.32\n",
    "std error: 2.51/(7^.5) = .94"
   ]
  },
  {
   "cell_type": "code",
   "execution_count": 7,
   "metadata": {},
   "outputs": [
    {
     "name": "stdout",
     "output_type": "stream",
     "text": [
      "mean is  10.0\n",
      "median is  10.0\n",
      "mode is  8\n",
      "variance is  5.428571428571429\n",
      "std. deviation of population is  2.32992949004287\n",
      "standard error is  0.951189731211342\n"
     ]
    }
   ],
   "source": [
    "import numpy as np\n",
    "ages = [14,12,11,10,8,7,8]\n",
    "\n",
    "def get_stats(ages):\n",
    "    print(\"mean is \",np.mean(ages))\n",
    "    print(\"median is \",np.median(ages))\n",
    "    (values, counts) = np.unique(ages, return_counts=True)\n",
    "    # The location in the values list of the most-frequently-occurring element.\n",
    "    ind = np.argmax(counts)\n",
    "    # The most frequent element.\n",
    "    print(\"mode is \",values[ind])\n",
    "    print(\"variance is \",np.var(ages))\n",
    "    print(\"std. deviation of population is \",np.std(ages))\n",
    "    print(\"standard error is \",np.std(ages)/np.sqrt(len(ages)-1))\n",
    "    \n",
    "get_stats(ages)"
   ]
  },
  {
   "cell_type": "markdown",
   "metadata": {},
   "source": [
    "**Nobody likes Cousin Oliver. Maybe the network should have used an even younger actor. Replace Cousin Oliver with 1-year-old Jessica, then recalculate again. Does this change your choice of central tendency or variance estimation methods?\n",
    "\n",
    "set_of_age: {14, 12, 11, 10, 8, 7, 1}\n",
    "ordered: 1,7,8,10,11,12,14\n",
    "mean: (1 + 7 + 8 + 10 + 11 + 12 + 14)/7 = 9\n",
    "median: 10\n",
    "mode: none\n",
    "v = sum((x - mean) ** 2) / (n - 1)\n",
    "sample variance: ((7-9)^2 + (1-9)^2 + (8-9)^2 + (10-9)^2 + (11-9)^2 + (12-9)^2 + (14-9)^2)/6 = 18\n",
    "population variance: ((7-9)^2 + (1-9)^2 + (8-9)^2 + (10-9)^2 + (11-9)^2 + (12-9)^2 + (14-9)^2)/7 = 15.43\n",
    "std dev: s = v ** 0.5  \n",
    "18 ** .5 = 4.24\n",
    "15.43 ** .5 = 3.93\n",
    "std error: 4.24/(7^.5) = 1.60\n",
    "\n",
    "It's better to use median here because the variance is high affecting the mean. There is no mode. I would still stick to standard deviation to reflect a variance estimate."
   ]
  },
  {
   "cell_type": "code",
   "execution_count": 8,
   "metadata": {},
   "outputs": [
    {
     "name": "stdout",
     "output_type": "stream",
     "text": [
      "mean is  9.0\n",
      "median is  10.0\n",
      "mode is  1\n",
      "variance is  15.428571428571429\n",
      "std. deviation of population is  3.927922024247863\n",
      "standard error is  1.6035674514745466\n"
     ]
    }
   ],
   "source": [
    "import numpy as np\n",
    "ages = [14,12,11,10,8,7,1]\n",
    "\n",
    "def get_stats(ages):\n",
    "    print(\"mean is \",np.mean(ages))\n",
    "    print(\"median is \",np.median(ages))\n",
    "    (values, counts) = np.unique(ages, return_counts=True)\n",
    "    # The location in the values list of the most-frequently-occurring element.\n",
    "    ind = np.argmax(counts)\n",
    "    # The most frequent element.\n",
    "    print(\"mode is \",values[ind])\n",
    "    print(\"variance is \",np.var(ages))\n",
    "    print(\"std. deviation of population is \",np.std(ages))\n",
    "    print(\"standard error is \",np.std(ages)/np.sqrt(len(ages)-1))\n",
    "    \n",
    "get_stats(ages)"
   ]
  },
  {
   "cell_type": "markdown",
   "metadata": {},
   "source": [
    "**On the 50th anniversary of The Brady Bunch, four different magazines asked their readers whether they were fans of the show. The answers were: TV Guide 20% fans Entertainment Weekly 23% fans Pop Culture Today 17% fans SciPhi Phanatic 5% fans\n",
    "\n",
    "Based on these numbers, what percentage of adult Americans would you estimate were Brady Bunch fans on the 50th anniversary of the show?\n",
    "{20, 23, 17, 5}\n",
    "mean: 20, 23, 17, 5 --> 16.25%\n",
    "But 5 is an outlier and comes from SciPhi Phanatic fans, who like have a bias towards a special subset of TV shows. Removing this, oure average between 20,23 and 17 become 20%."
   ]
  },
  {
   "cell_type": "code",
   "execution_count": null,
   "metadata": {},
   "outputs": [],
   "source": []
  }
 ],
 "metadata": {
  "kernelspec": {
   "display_name": "Python 3",
   "language": "python",
   "name": "python3"
  },
  "language_info": {
   "codemirror_mode": {
    "name": "ipython",
    "version": 3
   },
   "file_extension": ".py",
   "mimetype": "text/x-python",
   "name": "python",
   "nbconvert_exporter": "python",
   "pygments_lexer": "ipython3",
   "version": "3.6.4"
  }
 },
 "nbformat": 4,
 "nbformat_minor": 2
}
